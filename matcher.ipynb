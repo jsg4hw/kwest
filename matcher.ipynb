{
 "cells": [
  {
   "cell_type": "code",
   "execution_count": 445,
   "id": "155d5204-1011-47ff-9e1c-9865fc2a58c5",
   "metadata": {},
   "outputs": [],
   "source": [
    "INPUT_FPATH = os.path.join(os.getcwd(),'data.xlsx')\n",
    "OUTPUT_FPATH = os.path.join(os.getcwd(),'output.csv')"
   ]
  },
  {
   "cell_type": "code",
   "execution_count": 446,
   "id": "aa9a309b-c118-4726-b9dc-2eaa8fae4abe",
   "metadata": {},
   "outputs": [],
   "source": [
    "import os\n",
    "import random\n",
    "import numpy as np\n",
    "import pandas as pd\n",
    "from matching.games import HospitalResident"
   ]
  },
  {
   "cell_type": "code",
   "execution_count": 447,
   "id": "7557675f-a6cc-4250-9210-31ce7cf349f1",
   "metadata": {},
   "outputs": [],
   "source": [
    "# import data\n",
    "df_input = pd.read_excel(INPUT_FPATH,dtype=object)"
   ]
  },
  {
   "cell_type": "code",
   "execution_count": 448,
   "id": "fd42f155-9f5a-40e3-9ff4-b0f2fea9f43d",
   "metadata": {},
   "outputs": [],
   "source": [
    "# add rows for JVs\n",
    "for idx,row in df_input.loc[(df_input['Sig Other Coming'] == 'T') & (df_input['Sig Other Kellogg Student'] != 'T')].iterrows():\n",
    "    insertion = {\n",
    "        'Netid': [str(row['Netid'])+'JV'],\n",
    "        'ParentNetid': [str(row['Netid'])],\n",
    "        'Gender': [row['Significant Gender']],\n",
    "        'Program': ['JV'],\n",
    "        'Passport Country': [row['Significant Passport Country']],\n",
    "        'Vote1': [row['Vote1']],\n",
    "        'Vote2': [row['Vote2']],\n",
    "        'Vote3': [row['Vote3']],\n",
    "        'Vote4': [row['Vote4']],\n",
    "        'Vote5': [row['Vote5']],\n",
    "        'Vote6': [row['Vote6']],\n",
    "        'Vote7': [row['Vote7']],\n",
    "        'Vote8': [row['Vote8']],\n",
    "        'Vote9': [row['Vote9']],\n",
    "        'Vote10': [row['Vote10']],\n",
    "    }\n",
    "    \n",
    "    df_input = pd.concat([df_input,pd.DataFrame.from_dict(insertion,orient='columns')],sort=False,ignore_index=True)"
   ]
  },
  {
   "cell_type": "code",
   "execution_count": 449,
   "id": "12e54b71-7ef9-456f-ae95-150e2f401b12",
   "metadata": {},
   "outputs": [],
   "source": [
    "# groupings for program, nationality, gender\n",
    "df_input['Program'] = df_input['Program'].apply(lambda x: x if x in ['2YMBA'] else 'OTHER') # 1YMBA\n",
    "df_input['Passport Country'] = df_input['Passport Country'].apply(lambda x: x if x in ['UNITED STATES'] else 'OTHER')\n",
    "# df_input['Gender'] = df_input['Gender'].apply(lambda x: '1' if x in ['M'] else '0') # 1YMBA"
   ]
  },
  {
   "cell_type": "code",
   "execution_count": null,
   "id": "e7ba3668-e14f-4f0a-a76f-30bd227fcdc3",
   "metadata": {},
   "outputs": [],
   "source": [
    "# drop cols\n",
    "votes = ['Vote'+str(i+1) for i in range(10)]\n",
    "keep_cols = [\n",
    "    'Netid','ParentNetid','Gender','Program',\n",
    "    'Passport Country',\n",
    "] + votes\n",
    "df_input = df_input[keep_cols]"
   ]
  },
  {
   "cell_type": "code",
   "execution_count": null,
   "id": "ecc25b38-9367-44ba-909c-055732c3ec0f",
   "metadata": {},
   "outputs": [],
   "source": [
    "# demographic constraint distribution range calculations\n",
    "margin = 0.1\n",
    "# constraints\n",
    "dist_gender = round(df_input.groupby('Gender')['Netid'].count()/len(df_input),4)['F']\n",
    "rng_gender = [round(dist_gender-margin,2),round(dist_gender+margin,2)]\n",
    "print(dist_gender)\n",
    "print(rng_gender)\n",
    "dist_nationality = round(df_input.groupby('Passport Country')['Netid'].count()/len(df_input),4)['UNITED STATES']\n",
    "rng_nationality = [round(dist_nationality-margin,2),round(dist_nationality+margin,2)]\n",
    "print(dist_nationality)\n",
    "print(rng_nationality)\n",
    "dist_program = round(df_input.groupby('Program')['Netid'].count()/len(df_input),4)['2YMBA']\n",
    "rng_program = [round(dist_program-margin,2),round(dist_program+margin,2)]\n",
    "print(dist_program)\n",
    "print(rng_program)"
   ]
  },
  {
   "cell_type": "code",
   "execution_count": 450,
   "id": "06e80aba-4628-40b9-83bf-c6d2b9f203f9",
   "metadata": {},
   "outputs": [],
   "source": [
    "trips_unique = [df_input[i].tolist() for i in votes]\n",
    "trips_unique = [t for trip in trips_unique for t in trip if str(t) != 'nan']\n",
    "trips_unique = set(trips_unique)"
   ]
  },
  {
   "cell_type": "code",
   "execution_count": 451,
   "id": "e82b4e17-e2df-41fb-856b-7d2cffebb5ff",
   "metadata": {},
   "outputs": [],
   "source": [
    "netid_unique = [str(i) for i in df_input['Netid'].unique()]"
   ]
  },
  {
   "cell_type": "code",
   "execution_count": 452,
   "id": "3223165a-719d-4769-8db5-68f0a2c6b8f9",
   "metadata": {},
   "outputs": [],
   "source": [
    "trip_capacity = {trip:20 for trip in trips_unique}\n",
    "_trips = pd.melt(df_input[['Netid']+votes],id_vars=['Netid'],value_vars=votes,var_name='Vote',value_name='Trip').groupby('Trip')['Netid'].apply(list).to_dict()"
   ]
  },
  {
   "cell_type": "code",
   "execution_count": 453,
   "id": "d646c21c-04d0-4058-b407-10ff3d311503",
   "metadata": {},
   "outputs": [],
   "source": [
    "student_preferences = {\n",
    "    str(row['Netid']) : [i for i in row[votes].values.tolist() if str(i) != 'nan']\n",
    "    for idx,row in df_input.iterrows()\n",
    "}"
   ]
  },
  {
   "cell_type": "code",
   "execution_count": 499,
   "id": "6a54440b-6535-46c9-8f52-a946d10905b1",
   "metadata": {},
   "outputs": [
    {
     "name": "stdout",
     "output_type": "stream",
     "text": [
      "match failed: failed under nationality constraint\n",
      "run out of iterations\n"
     ]
    }
   ],
   "source": [
    "iterations = 10\n",
    "\n",
    "for i in range(iterations):\n",
    "\n",
    "    trip_preferences = {}\n",
    "    for trip,netids in _trips.items():\n",
    "        _netids = [str(i) for i in netids]\n",
    "        random.shuffle(_netids)\n",
    "        # put a JV directly after partner - max chance of assigned together\n",
    "        for netid in _netids:\n",
    "            if netid[-2:]=='JV':\n",
    "                _netids.insert(\n",
    "                    # in the spot directly after student partner\n",
    "                    _netids.index(netid[:-2])+1,\n",
    "                    # insert the jv netid\n",
    "                    _netids.pop(_netids.index(netid))\n",
    "                )\n",
    "        trip_preferences[trip] = _netids\n",
    "\n",
    "    game = HospitalResident.create_from_dictionaries(\n",
    "        student_preferences,\n",
    "        trip_preferences,\n",
    "        trip_capacity\n",
    "    )\n",
    "\n",
    "    matching = game.solve(optimal='resident')\n",
    "\n",
    "    matched_students = []\n",
    "    for _, students in matching.items():\n",
    "        for student in students:\n",
    "            matched_students.append(student.name)\n",
    "\n",
    "    unmatched_students = set(student_preferences.keys()) - set(matched_students)\n",
    "\n",
    "    if len(unmatched_students) == 0:\n",
    "        try:\n",
    "            for trip,students in match.items():\n",
    "                students = [str(i.name) for i in students]\n",
    "                s = len(students)\n",
    "                f = 0\n",
    "                am = 0\n",
    "                y2 = 0\n",
    "                # trip size\n",
    "                try:\n",
    "                    assert s >= 14\n",
    "                except:\n",
    "                    raise Exception('less than 14 students')\n",
    "                for student in students:\n",
    "                    # jvs with partners\n",
    "                    if student[-2:]=='JV':\n",
    "                        try:\n",
    "                            assert student[:-2] in students\n",
    "                        except:\n",
    "                            raise Exception('jv not paired with partner')\n",
    "                    # demographic info\n",
    "                    demo = df_input.loc[df_input['Netid'].apply(str)==student]\n",
    "                    if demo['Gender'].values[0] == 'F':\n",
    "                        f+=1\n",
    "                    if demo['Passport Country'].values[0]=='UNITED STATES':\n",
    "                        am+=1\n",
    "                    if demo['Program'].values[0]=='2YMBA':\n",
    "                        y2+=1\n",
    "                # gender dist\n",
    "                try:\n",
    "                    assert rng_gender[0] <= (f/s) <= rng_gender[1]\n",
    "                except:\n",
    "                    raise Exception('failed under gender constraint')\n",
    "                # nationality dist\n",
    "                try:\n",
    "                    assert rng_nationality[0] <= (am/s) <= rng_nationality[1]\n",
    "                except:\n",
    "                    raise Exception('failed under nationality constraint')\n",
    "                # program dist\n",
    "                try:\n",
    "                    assert rng_program[0] <= (y2/s) <= rng_program[1]\n",
    "                except:\n",
    "                    raise Exception('failed under program constraint')\n",
    "            print('match found')\n",
    "            MATCH = match\n",
    "            break\n",
    "\n",
    "        except Exception as e:\n",
    "            # raise\n",
    "            print('match failed:',e)\n",
    "            continue\n",
    "\n",
    "print('run out of iterations')"
   ]
  },
  {
   "cell_type": "code",
   "execution_count": null,
   "id": "dfac5b22-0d26-4419-974c-727e50955ea0",
   "metadata": {},
   "outputs": [],
   "source": []
  },
  {
   "cell_type": "code",
   "execution_count": null,
   "id": "43a5c9a2-b9dc-4096-b340-4d5f911044f4",
   "metadata": {},
   "outputs": [],
   "source": []
  },
  {
   "cell_type": "code",
   "execution_count": null,
   "id": "c2ed5453-f219-4081-94b0-2019068b2000",
   "metadata": {},
   "outputs": [],
   "source": []
  },
  {
   "cell_type": "code",
   "execution_count": null,
   "id": "cb9c7c39-8252-4ce9-993f-b4e43f0c2256",
   "metadata": {},
   "outputs": [],
   "source": []
  },
  {
   "cell_type": "code",
   "execution_count": null,
   "id": "b46c44dd-9549-4bc1-94f9-ae536b11f0e0",
   "metadata": {},
   "outputs": [],
   "source": []
  },
  {
   "cell_type": "code",
   "execution_count": null,
   "id": "c7983989-287b-4d4e-b226-b8c402145e8d",
   "metadata": {},
   "outputs": [],
   "source": []
  }
 ],
 "metadata": {
  "kernelspec": {
   "display_name": "Python 3 (ipykernel)",
   "language": "python",
   "name": "python3"
  },
  "language_info": {
   "codemirror_mode": {
    "name": "ipython",
    "version": 3
   },
   "file_extension": ".py",
   "mimetype": "text/x-python",
   "name": "python",
   "nbconvert_exporter": "python",
   "pygments_lexer": "ipython3",
   "version": "3.9.7"
  }
 },
 "nbformat": 4,
 "nbformat_minor": 5
}
