{
 "cells": [
  {
   "cell_type": "markdown",
   "id": "e556311f-1e52-4c55-a76c-afa4e934d6b6",
   "metadata": {},
   "source": [
    "# KWEST Matching Program\n",
    "Code to match Kellogg students to a KWEST trip based on submitted preferences.\n",
    "\n",
    "#### Steps\n",
    "1. Change `INPUT_FPATH` and `OUTPUT_FPATH` to location of input trip preferences excel file and preferred output location for CSV file of trip rosters\n",
    "1. Run all code cells\n",
    "\n",
    "#### Suggestions\n",
    "- Require all students to submit 10 trip preferences - this increased likelihood of optimal trip matches\n",
    "\n",
    "#### ToDo\n",
    "1. Correct overbooked trips\n",
    "1. Generate output"
   ]
  },
  {
   "cell_type": "code",
   "execution_count": 892,
   "id": "aa9a309b-c118-4726-b9dc-2eaa8fae4abe",
   "metadata": {},
   "outputs": [],
   "source": [
    "from random import shuffle\n",
    "from math import ceil\n",
    "from itertools import product\n",
    "import numpy as np\n",
    "import pandas as pd\n",
    "from sklearn.neighbors import KNeighborsRegressor\n",
    "from matching.games import HospitalResident"
   ]
  },
  {
   "cell_type": "code",
   "execution_count": 1085,
   "id": "c0cc1422-b6e8-40b4-8690-4f5a8dcd3e7f",
   "metadata": {},
   "outputs": [],
   "source": [
    "class Kwest(object):\n",
    "    def __init__(self,input_fpath,ouput_fpath,\n",
    "                 df_input=None,df_clean=None,df_final=None,\n",
    "                 df_fit=None,fit_x=None,fit_y=None,\n",
    "                 df_pred=None,pred_x=None,pred_y=None,\n",
    "                 students=[],trips={},top_trips=[],trip_capacity=20,\n",
    "                 gender_avg=None,program_avg=None,country_avg=None,\n",
    "                 matches=[],final_match=None):\n",
    "        \n",
    "        self.input_fpath = input_fpath\n",
    "        self.ouput_fpath = ouput_fpath\n",
    "        \n",
    "        self.df_input = df_input\n",
    "        self.df_clean = df_clean\n",
    "        self.df_final = df_final\n",
    "        \n",
    "        self.df_fit = df_fit\n",
    "        self.fit_x = fit_x\n",
    "        self.fit_y = fit_y\n",
    "        \n",
    "        self.df_pred = df_pred\n",
    "        self.pred_x = pred_x\n",
    "        self.pred_y = pred_y\n",
    "        \n",
    "        self.students = students\n",
    "        self.trips = trips\n",
    "        self.top_trips = top_trips\n",
    "        self.trip_capacity = trip_capacity\n",
    "        \n",
    "        self.gender_avg = gender_avg\n",
    "        self.program_avg = program_avg\n",
    "        self.country_avg = country_avg\n",
    "        \n",
    "        self.matches = matches\n",
    "        self.final_match = final_match\n",
    "        \n",
    "        self._read_input()\n",
    "        self._clean_data()\n",
    "        \n",
    "        self._generate_students()\n",
    "        self._generate_trips()\n",
    "        \n",
    "        self._pick_top_trips()\n",
    "        self._wrangle_data()\n",
    "    \n",
    "    def _read_input(self):\n",
    "        self.df_input = pd.read_excel(self.input_fpath,dtype=str)\n",
    "    \n",
    "    def _clean_data(self):\n",
    "        df = self.df_input[[\n",
    "            'Netid','Gender','Program','Date of Birth','Passport Country',\n",
    "            'Sig Other Coming','Sig Other Kellogg Student',\n",
    "        ]+['Vote'+str(i+1) for i in range(10)]]\n",
    "        \n",
    "        df.columns = ['net_id','gender','program','dob','country','sig other coming','sig other kellogg student']+['trip'+str(i+1) for i in range(10)]\n",
    "        df['jv_coming'] = df.apply(lambda x: 1 if ((x['sig other coming']=='T') & (x['sig other kellogg student']=='F')) else 0, axis=1)\n",
    "        self.df_clean = df.set_index('net_id').drop(['sig other coming','sig other kellogg student'],axis=1)\n",
    "        \n",
    "    def _wrangle_data(self):\n",
    "        df = self.df_clean.drop(['dob'],axis=1) # DOB is null for all students in test data set\n",
    "        df.gender = df.gender.apply(lambda x: 1 if x=='F' else 0)\n",
    "        df.program = df.program.apply(lambda x: 1 if x=='2YMBA' else 0)\n",
    "        df.country = df.country.apply(lambda x: 1 if x=='UNITED STATES' else 0)\n",
    "        \n",
    "        fit = pd.melt(\n",
    "            df.reset_index(drop=False),\n",
    "            id_vars=['net_id','gender','country','program','jv_coming'],\n",
    "            value_vars=['trip'+str(i+1) for i in range(10)],\n",
    "            var_name='vote',value_name='trip').dropna()\n",
    "        fit.vote = fit.vote.str.replace('trip','').astype(int)\n",
    "                \n",
    "        netid_trips = list(product(df.index.tolist(), self.trips))\n",
    "        # 1. df of all net id and trip name combinations\n",
    "        # 2. join to find which trips have already been voted on\n",
    "        # 3. join to pull student attribute data\n",
    "        pred = pd.DataFrame(netid_trips,columns=['net_id','trip'])\\\n",
    "            .merge(fit[['net_id','trip','vote']],on=['net_id','trip'],how='left')\\\n",
    "            .merge(df.reset_index(drop=False)[['net_id','gender','country','program','jv_coming']],on=['net_id'],how='inner') \n",
    "        \n",
    "        fit = fit.join(pd.get_dummies(fit.trip)).drop(labels=['trip'],axis=1).reset_index(drop=True)\n",
    "        fit.index.name = 'row_num'\n",
    "        fit = fit.reset_index(drop=False).set_index(['row_num','net_id'])\n",
    "        cols_fit = fit.columns.tolist()\n",
    "        self.df_fit = fit\n",
    "        self.fit_x = fit.drop(['vote'],axis=1)\n",
    "        self.fit_y = fit.vote\n",
    "        \n",
    "        pred = pred.loc[(pred.vote.isnull()) & (pred.trip.isin(self.top_trips))]\n",
    "        pred = pred.join(pd.get_dummies(pred.trip)).drop(labels=['trip','vote'],axis=1).reset_index(drop=True)\n",
    "        pred.index.name = 'row_num'\n",
    "        pred = pred.reset_index(drop=False).set_index(['row_num','net_id'])\n",
    "        cols_pred = [col for col in cols_fit if col!='vote']\n",
    "        for col in cols_pred:\n",
    "            if col not in pred.columns:\n",
    "                pred[col] = 0\n",
    "        pred = pred[cols_pred]\n",
    "        self.df_pred = pred\n",
    "        self.pred_x = pred\n",
    "    \n",
    "    def _generate_students(self):\n",
    "        students = []\n",
    "        rows = self.df_clean.reset_index(drop=False).to_dict('records')\n",
    "        trips = ['trip'+str(i+1) for i in range(10)]\n",
    "        \n",
    "        for student in rows:\n",
    "            votes = []\n",
    "            for trip in trips:\n",
    "                vote = student.pop(trip,None)\n",
    "                if str(vote) != 'nan':\n",
    "                    votes.append(vote)\n",
    "            student['votes'] = votes\n",
    "            students.append(Student(**student))\n",
    "        self.students = students\n",
    "        \n",
    "        total = len(students)\n",
    "        gender = 0\n",
    "        program = 0\n",
    "        country = 0\n",
    "        for student in students:\n",
    "            if student.gender=='F':\n",
    "                gender+=1\n",
    "            if student.program=='2YMBA':\n",
    "                program+=1\n",
    "            if student.country=='UNITED STATES':\n",
    "                country+=1\n",
    "        self.gender_avg = (gender/total)\n",
    "        self.program_avg = (program/total)\n",
    "        self.country_avg = (country/total)\n",
    "    \n",
    "    def _generate_trips(self):\n",
    "        cols = ['trip'+str(i+1) for i in range(10)]\n",
    "        df = self.df_clean[cols]\n",
    "        \n",
    "        trips = [df[i].tolist() for i in cols]\n",
    "        trips = set([t for trip in trips for t in trip if str(t) != 'nan'])\n",
    "        self.trips = trips\n",
    "    \n",
    "    def _pick_top_trips(self):\n",
    "        cushion = 0\n",
    "        trip_goers = 0\n",
    "        for student in self.students:\n",
    "            if student.jv_coming == 1:\n",
    "                trip_goers+=2\n",
    "            else:\n",
    "                trip_goers+=1\n",
    "        min_capacity,max_capacity = 14,20\n",
    "        min_trips,max_trips = (ceil(trip_goers/max_capacity)),(ceil(trip_goers/min_capacity))\n",
    "        \n",
    "        votes = []\n",
    "        for student in self.students:\n",
    "            votes+=student.votes\n",
    "        top_trips = pd.Series(votes).value_counts()[:min_trips+cushion].index.tolist()\n",
    "        self.top_trips = top_trips\n",
    "    \n",
    "    def predict(self):\n",
    "        knn = KNeighborsRegressor(n_neighbors=5)\n",
    "        knn.fit(self.fit_x, self.fit_y)\n",
    "        pred_y = knn.predict(self.pred_x)\n",
    "        pred_y = pd.DataFrame(pred_y,columns=['vote'])\n",
    "        pred_y.index.name = 'row_num'\n",
    "        self.pred_y = pred_y\n",
    "        \n",
    "        fit = self.df_fit\n",
    "        pred = self.pred_x.join(pred_y,on=['row_num'],how='inner')\n",
    "        final = pd.concat([fit,pred])\n",
    "        \n",
    "        final = pd.melt(\n",
    "            final.reset_index(drop=False).drop(['row_num'],axis=1),\n",
    "            id_vars=['net_id','gender','country','program','jv_coming','vote'],\n",
    "            var_name='trip'\n",
    "        )\n",
    "        final = final.loc[(final.value==1) & (final.trip.isin(self.top_trips))].drop(['value'],axis=1)\n",
    "        self.df_final = final\n",
    "            \n",
    "    def match(self,runs=10):\n",
    "        matches = []\n",
    "        student_mapper = {student.net_id:student for student in self.students}\n",
    "        student_preferences = {}\n",
    "        preferences = self.df_final.sort_values(['net_id','vote']).groupby(['net_id']).agg(list)[['trip']]\n",
    "        for student in self.students:\n",
    "            prefs = preferences.loc[preferences.index==student.net_id].trip[0]\n",
    "            student.preferences = prefs\n",
    "            student_preferences[student.net_id] = prefs\n",
    "            if student.jv_coming == 1:\n",
    "                student_preferences[student.net_id+'JV'] = prefs        \n",
    "        \n",
    "        net_ids_with_jvs = student_preferences.keys()\n",
    "        \n",
    "        for run in range(runs):\n",
    "            trip_preferences = {}\n",
    "            for trip in self.top_trips:\n",
    "                shuffle(net_ids_w_jvs)\n",
    "                for net_id in net_ids_w_jvs:\n",
    "                    if net_id[-2:] == 'JV':\n",
    "                        net_ids_w_jvs.insert(\n",
    "                            # in the spot directly after student partner\n",
    "                            net_ids_w_jvs.index(net_id[:-2])+1,\n",
    "                            # insert the jv netid\n",
    "                            net_ids_w_jvs.pop(net_ids_w_jvs.index(net_id))\n",
    "                        )\n",
    "                trip_preferences[trip] = net_ids_w_jvs\n",
    "                \n",
    "            match = {\n",
    "                'student_mapper': student_mapper,\n",
    "                'student_preferences': student_preferences,\n",
    "                'trip_preferences': trip_preferences,\n",
    "                'trip_capacity': self.trip_capacity,\n",
    "                'gender_avg': self.gender_avg,\n",
    "                'program_avg': self.program_avg,\n",
    "                'country_avg': self.country_avg,\n",
    "            }\n",
    "            matches.append(Match(**match))\n",
    "        self.matches = matches\n",
    "    \n",
    "    def pick(self):\n",
    "        best = self.matches[0]\n",
    "        for match in self.matches:\n",
    "            if match.error < best.error:\n",
    "                best = match\n",
    "        self.final_match = best\n",
    "        \n",
    "        # print(\"\"\"\n",
    "        # Iteration: {}\n",
    "        # Corrections: {}\n",
    "        # Error: {}\n",
    "        # \"\"\".format(\n",
    "        #     self.final_match.iteration,\n",
    "        #     self.final_match.corrections,\n",
    "        #     self.final_match.error,\n",
    "        # ))\n",
    "        # for trip,students in self.final_match['trips'].items():\n",
    "        #     print(trip,':',[student.net_id for student in students])"
   ]
  },
  {
   "cell_type": "code",
   "execution_count": 1086,
   "id": "a4fe2ffc-fa2d-4a3e-a8b0-6b7366cca331",
   "metadata": {},
   "outputs": [],
   "source": [
    "class Match(object):\n",
    "    def __init__(self,student_mapper,student_preferences,\n",
    "                 trip_preferences,trip_capacity,\n",
    "                 gender_avg,program_avg,country_avg,\n",
    "                 solution=None,trips=[],error=None):\n",
    "        self.student_mapper = student_mapper\n",
    "        self.student_preferences = student_preferences\n",
    "        \n",
    "        self.trip_preferences = trip_preferences\n",
    "        self.trip_capacity = trip_capacity\n",
    "        \n",
    "        self.gender_avg = gender_avg\n",
    "        self.program_avg = program_avg\n",
    "        self.country_avg = country_avg\n",
    "        \n",
    "        self.solution = solution\n",
    "        \n",
    "        self.trips = trips\n",
    "        self.error = error\n",
    "        \n",
    "        self._solve()\n",
    "        # self._correct()\n",
    "        self._score()\n",
    "    \n",
    "    def _solve(self):\n",
    "        trip_capacity = {trip:self.trip_capacity for trip in self.trip_preferences.keys()}\n",
    "        game = HospitalResident.create_from_dictionaries(\n",
    "            self.student_preferences,\n",
    "            self.trip_preferences,\n",
    "            trip_capacity\n",
    "        )\n",
    "        solution = game.solve(optimal='resident')\n",
    "        self.solution = solution\n",
    "        trips = []\n",
    "        \n",
    "        for trip,students in solution.items():\n",
    "            trip = {\n",
    "                'name': trip.name,\n",
    "                'students': [],\n",
    "                'gender_avg': self.gender_avg,\n",
    "                'program_avg': self.program_avg,\n",
    "                'country_avg': self.country_avg,\n",
    "                'capacity': self.trip_capacity,\n",
    "            }\n",
    "            for student in students:\n",
    "                if student.name[-2:]!='JV':\n",
    "                    trip['students'].append(self.student_mapper[student.name])\n",
    "            trips.append(Trip(**trip))\n",
    "        \n",
    "        self.trips = trips\n",
    "    \n",
    "    def _correct(self):\n",
    "        for trip in self.trips:\n",
    "            if trip.size > trip.capacity:\n",
    "                for student in trip.students:\n",
    "                    None\n",
    "    \n",
    "    def _score(self):\n",
    "        error = 0\n",
    "        for trip in self.trips:\n",
    "            trip.score()\n",
    "            error+=trip.error\n",
    "        self.error = error"
   ]
  },
  {
   "cell_type": "code",
   "execution_count": 1094,
   "id": "5096a147-fd4e-40f1-94a2-2dd4e540cd16",
   "metadata": {},
   "outputs": [],
   "source": [
    "class Trip(object):\n",
    "    def __init__(self,name,students,capacity,\n",
    "                gender_avg,program_avg,country_avg,size=0,error=0,\n",
    "                gender_dist=None,program_dist=None,country_dist=None):\n",
    "        self.name = name\n",
    "        self.students = students\n",
    "        self.capacity = capacity\n",
    "        \n",
    "        self.gender_avg = gender_avg\n",
    "        self.program_avg = program_avg\n",
    "        self.country_avg = country_avg\n",
    "        \n",
    "        self.size = size\n",
    "        self.error = error\n",
    "        \n",
    "        self.gender_dist = gender_dist\n",
    "        self.program_dist = program_dist\n",
    "        self.country_dist = country_dist\n",
    "        \n",
    "        self.score()\n",
    "    \n",
    "    def score(self):\n",
    "        size = 0\n",
    "        gender = 0\n",
    "        program = 0\n",
    "        country = 0\n",
    "        for student in self.students:\n",
    "            if student.jv_coming==1:\n",
    "                size+=2\n",
    "            else:\n",
    "                size+=1\n",
    "            if student.gender=='F':\n",
    "                gender+=1\n",
    "            if student.program=='2YMBA':\n",
    "                program+=1\n",
    "            if student.country=='UNITED STATES':\n",
    "                country+=1\n",
    "        \n",
    "        self.size = size\n",
    "        self.gender_dist = (gender/size)\n",
    "        self.program_dist = (program/size)\n",
    "        self.country_dist = (country/size)\n",
    "        self.error = (\n",
    "            abs(self.gender_dist - self.gender_avg)\n",
    "            + abs(self.program_dist - self.program_avg)\n",
    "            + abs(self.country_dist - self.country_avg)\n",
    "        )"
   ]
  },
  {
   "cell_type": "code",
   "execution_count": 1095,
   "id": "de326c2b-cce4-41b2-babc-09ade246f79f",
   "metadata": {},
   "outputs": [],
   "source": [
    "class Student(object):\n",
    "    def __init__(self,net_id,gender,program,dob,\n",
    "                country,jv_coming,votes,preferences=None):\n",
    "        self.net_id = net_id\n",
    "        self.gender = gender\n",
    "        self.dob = dob\n",
    "        self.program = program\n",
    "        self.country = country\n",
    "        self.jv_coming = jv_coming\n",
    "        self.votes = votes\n",
    "        self.preferences = preferences"
   ]
  },
  {
   "cell_type": "code",
   "execution_count": 1096,
   "id": "7f2cc20e-8e7d-4bb8-800a-94fef8323a0e",
   "metadata": {},
   "outputs": [
    {
     "name": "stderr",
     "output_type": "stream",
     "text": [
      "C:\\Users\\trevs\\AppData\\Local\\Temp\\ipykernel_1388\\3470165860.py:56: SettingWithCopyWarning: \n",
      "A value is trying to be set on a copy of a slice from a DataFrame.\n",
      "Try using .loc[row_indexer,col_indexer] = value instead\n",
      "\n",
      "See the caveats in the documentation: https://pandas.pydata.org/pandas-docs/stable/user_guide/indexing.html#returning-a-view-versus-a-copy\n",
      "  df['jv_coming'] = df.apply(lambda x: 1 if ((x['sig other coming']=='T') & (x['sig other kellogg student']=='F')) else 0, axis=1)\n"
     ]
    }
   ],
   "source": [
    "import os\n",
    "INPUT_FPATH = os.path.join(os.getcwd(),'data.xlsx')\n",
    "OUTPUT_FPATH = os.path.join(os.getcwd(),'output.csv')\n",
    "\n",
    "kwest = Kwest(INPUT_FPATH,OUTPUT_FPATH,trip_capacity=20)\n",
    "kwest.predict()\n",
    "kwest.match(runs=10)\n",
    "kwest.pick()"
   ]
  },
  {
   "cell_type": "code",
   "execution_count": null,
   "id": "16330863-9714-4f43-ab46-3da5f1be142c",
   "metadata": {},
   "outputs": [],
   "source": []
  },
  {
   "cell_type": "code",
   "execution_count": null,
   "id": "55bc3d27-3660-4ad8-8d44-247664caf6f2",
   "metadata": {},
   "outputs": [],
   "source": []
  },
  {
   "cell_type": "code",
   "execution_count": null,
   "id": "6a981bfa-51c5-4e02-8d03-463915819d3d",
   "metadata": {},
   "outputs": [],
   "source": []
  },
  {
   "cell_type": "code",
   "execution_count": null,
   "id": "eef85c9f-3eb4-4151-b8ef-6081274d48b6",
   "metadata": {},
   "outputs": [],
   "source": []
  },
  {
   "cell_type": "code",
   "execution_count": null,
   "id": "00743e28-14b8-4422-aa98-3c52284432ab",
   "metadata": {},
   "outputs": [],
   "source": []
  },
  {
   "cell_type": "code",
   "execution_count": null,
   "id": "d96d3d96-227d-4907-b220-5aaa2a0a8f4a",
   "metadata": {},
   "outputs": [],
   "source": []
  },
  {
   "cell_type": "code",
   "execution_count": null,
   "id": "7502a24c-9fee-47e5-a35b-f072dab3da7a",
   "metadata": {},
   "outputs": [],
   "source": []
  },
  {
   "cell_type": "code",
   "execution_count": null,
   "id": "20c7ffaa-6f02-446d-bc72-03cbfb299d71",
   "metadata": {},
   "outputs": [],
   "source": []
  },
  {
   "cell_type": "code",
   "execution_count": null,
   "id": "6d040fa4-daa0-46d3-a078-b44d9154384a",
   "metadata": {},
   "outputs": [],
   "source": []
  },
  {
   "cell_type": "code",
   "execution_count": null,
   "id": "641c56af-d486-4ea0-af54-8e78458f8aa8",
   "metadata": {},
   "outputs": [],
   "source": []
  },
  {
   "cell_type": "code",
   "execution_count": null,
   "id": "e7c319ef-5232-459a-a56b-5cc644c592c4",
   "metadata": {},
   "outputs": [],
   "source": []
  },
  {
   "cell_type": "code",
   "execution_count": null,
   "id": "63588407-81df-4ccc-9858-06409f6bcd18",
   "metadata": {},
   "outputs": [],
   "source": []
  },
  {
   "cell_type": "code",
   "execution_count": null,
   "id": "4423f9c2-6673-4ea4-91c2-712a81bbdd95",
   "metadata": {},
   "outputs": [],
   "source": []
  },
  {
   "cell_type": "code",
   "execution_count": null,
   "id": "f4c28ad5-aec3-415d-b88d-e47eaa8455dd",
   "metadata": {},
   "outputs": [],
   "source": []
  },
  {
   "cell_type": "code",
   "execution_count": null,
   "id": "541a8099-e0f2-4b4d-8735-a3b4f3e8e28f",
   "metadata": {},
   "outputs": [],
   "source": []
  },
  {
   "cell_type": "code",
   "execution_count": null,
   "id": "489995f8-5a04-456d-a538-e83c9d7d6ee6",
   "metadata": {},
   "outputs": [],
   "source": []
  },
  {
   "cell_type": "code",
   "execution_count": null,
   "id": "ef77344b-c3e1-499f-b505-8ee0c82c6dd1",
   "metadata": {},
   "outputs": [],
   "source": []
  },
  {
   "cell_type": "code",
   "execution_count": null,
   "id": "ae937f23-1518-4a6e-9d6b-feab7407a73d",
   "metadata": {},
   "outputs": [],
   "source": []
  },
  {
   "cell_type": "code",
   "execution_count": 1097,
   "id": "3ec5fb06-816c-409f-9fb9-c2e393afabc5",
   "metadata": {},
   "outputs": [
    {
     "data": {
      "text/plain": [
       "569"
      ]
     },
     "execution_count": 1097,
     "metadata": {},
     "output_type": "execute_result"
    }
   ],
   "source": [
    "len(kwest.students)"
   ]
  },
  {
   "cell_type": "code",
   "execution_count": 1098,
   "id": "dd957be3-98d4-449e-9a5e-8730df5fae13",
   "metadata": {},
   "outputs": [
    {
     "data": {
      "text/plain": [
       "36"
      ]
     },
     "execution_count": 1098,
     "metadata": {},
     "output_type": "execute_result"
    }
   ],
   "source": [
    "len(kwest.top_trips)"
   ]
  },
  {
   "cell_type": "code",
   "execution_count": 1099,
   "id": "81443b5c-8ac0-4ebf-b7f7-3a86d9bc5b91",
   "metadata": {},
   "outputs": [
    {
     "data": {
      "text/plain": [
       "10"
      ]
     },
     "execution_count": 1099,
     "metadata": {},
     "output_type": "execute_result"
    }
   ],
   "source": [
    "len(kwest.matches)"
   ]
  },
  {
   "cell_type": "code",
   "execution_count": 1100,
   "id": "0f8c6d36-620e-4507-989d-76cb5c6784b8",
   "metadata": {},
   "outputs": [
    {
     "data": {
      "text/plain": [
       "36"
      ]
     },
     "execution_count": 1100,
     "metadata": {},
     "output_type": "execute_result"
    }
   ],
   "source": [
    "len(kwest.final_match.trips)"
   ]
  },
  {
   "cell_type": "code",
   "execution_count": 1101,
   "id": "8d8433f7-fd24-41e3-a27b-4cdefa2accc8",
   "metadata": {},
   "outputs": [
    {
     "name": "stdout",
     "output_type": "stream",
     "text": [
      "21 200356 - Italian Adriatic : ['70', '521', '211', '308', '127', '173', '236', '335', '502', '282', '390', '510', '530', '353', '44', '327', '175']\n",
      "20 200365 - Portugal : ['134', '52', '81', '224', '198', '186', '246', '225', '129', '314', '430', '39', '359', '402']\n",
      "20 200341 - Brazil : ['356', '191', '205', '337', '210', '363', '258', '268', '411', '265', '257', '126', '281', '106', '229', '394', '471']\n",
      "20 200337 - Amalfi Coast : ['319', '565', '428', '10', '260', '154', '73', '522', '241', '379', '251', '527', '240', '450', '20', '123']\n",
      "20 200367 - Slovenia : ['489', '385', '27', '437', '467', '79', '226', '3', '153', '98', '235', '60', '274', '36']\n",
      "19 200371 - Southern Spain : ['167', '181', '317', '438', '13', '424', '125', '278', '554', '557', '71', '273', '89', '297', '55', '49', '396']\n",
      "21 200344 - Canary Islands : ['341', '162', '101', '343', '285', '16', '392', '178', '217', '56', '177', '139', '96', '18', '75']\n",
      "20 200345 - Chile : ['145', '25', '203', '357', '22', '38', '252', '466', '76', '483', '35', '452', '213', '216', '399']\n",
      "20 200347 - Crete : ['102', '100', '472', '444', '192', '303', '348', '83', '375', '163', '500', '374', '358', '377', '204', '416', '368']\n",
      "20 200351 - Finland / Estonia : ['404', '99', '558', '447', '222', '457', '569', '254', '561', '68', '351', '232', '533', '436', '131']\n",
      "20 200352 - Greek Islands : ['63', '321', '94', '473', '556', '166', '484', '179', '338', '143', '206', '57', '419', '207', '200', '442', '69']\n",
      "21 200349 - Cyprus : ['17', '386', '531', '366', '526', '528', '112', '172', '477', '532', '563', '8', '421', '536', '261', '6', '97', '264']\n",
      "18 200346 - Colombia : ['453', '283', '53', '220', '276', '524', '547', '542', '482', '117', '313', '128', '95', '201', '46', '501']\n",
      "18 200348 - Croatia : ['104', '142', '311', '383', '138', '122', '148', '515', '354', '272', '520', '108', '294', '88']\n",
      "21 200372 - Spanish Mediterranean : ['66', '43', '2', '234', '165', '238', '230', '158', '77', '393', '253', '245', '307', '9', '458', '132']\n",
      "20 200343 - Bulgaria : ['332', '451', '250', '429', '514', '486', '50', '518', '325', '121', '195', '233', '33', '439', '114', '144', '84']\n",
      "20 200363 - Northern Spain : ['498', '86', '14', '47', '28', '23', '333', '474', '87', '290', '219', '499', '239', '107', '171', '460', '517', '391']\n",
      "20 200362 - New Zealand : ['559', '156', '249', '159', '481', '188', '545', '541', '540', '549', '12', '326', '40', '215', '21', '136']\n",
      "21 200359 - Montenegro : ['31', '259', '365', '538', '454', '119', '185', '19', '415', '440', '11', '174', '237', '287', '80', '270']\n",
      "20 200364 - Peru : ['479', '361', '293', '243', '190', '262', '369', '305', '320', '7', '420', '364', '395', '384', '304', '492']\n",
      "18 200360 - Morocco : ['147', '212', '427', '54', '5', '567', '426', '164', '551', '137', '546', '228', '301', '124']\n",
      "20 200368 - South Africa : ['448', '113', '406', '417', '405', '202', '370', '433', '284', '410', '199', '560', '462', '288', '189']\n",
      "20 200340 - Belize : ['194', '495', '90', '182', '346', '256', '221', '140', '475', '214', '133', '209', '91', '141', '464', '503', '29']\n",
      "21 200358 - Malta / Sicily : ['376', '120', '118', '381', '494', '105', '155', '525', '409', '331', '103', '534', '255', '72', '291', '412']\n",
      "17 200366 - Romania : ['470', '51', '180', '42', '196', '24', '67', '360', '550', '485', '34', '110']\n",
      "21 200355 - Israel : ['309', '505', '456', '523', '248', '306', '157', '151', '355', '362', '480', '82', '506', '342', '509', '408', '168']\n",
      "20 200357 - Jamaica : ['93', '446', '441', '508', '414', '539', '146', '323', '169', '298', '183', '401', '344', '398', '193', '130', '161']\n",
      "20 200336 - Alaska : ['511', '78', '330', '350', '223', '434', '345', '553', '537', '423', '244', '135', '247', '407', '41', '208']\n",
      "20 200339 - Bali : ['425', '315', '491', '116', '389', '37', '170', '302', '289', '378', '507', '227', '548', '242', '267', '529', '382']\n",
      "14 200342 - Budapest / Vienna : ['286', '296', '493', '279', '432', '266', '478', '476', '149', '26', '443', '449', '150']\n",
      "20 200361 - Mystery : ['263', '64', '59', '4', '347', '62', '488', '269', '555', '367', '519', '339', '568', '299', '388', '512', '403', '328', '336']\n",
      "18 200370 - South of France : ['111', '566', '487', '340', '455', '312', '463', '564', '435', '109', '160', '292', '1', '187']\n",
      "18 200354 - Hong Kong / Taiwan : ['310', '271', '418', '562', '58', '372', '380', '504', '300', '329', '334', '48', '371', '324', '218', '275', '490']\n",
      "20 200338 - Amazing Race : ['277', '497', '45', '176', '387', '231', '316', '516', '461', '280', '74', '85', '184', '400', '431', '61', '413', '445', '152']\n",
      "15 200374 - Vietnam : ['197', '552', '459', '92', '535', '422', '318', '65', '373', '513']\n",
      "22 200353 - Hawaii : ['469', '543', '544', '397', '15', '496', '468', '32', '115', '322', '352', '465', '295', '349', '30']\n"
     ]
    }
   ],
   "source": [
    "for trip in kwest.final_match.trips:\n",
    "    print(trip.size,trip.name,':',[student.net_id for student in trip.students])"
   ]
  },
  {
   "cell_type": "code",
   "execution_count": 1102,
   "id": "e518004c-bd83-470c-a5d7-34726fdd78a1",
   "metadata": {},
   "outputs": [
    {
     "data": {
      "text/plain": [
       "36"
      ]
     },
     "execution_count": 1102,
     "metadata": {},
     "output_type": "execute_result"
    }
   ],
   "source": [
    "len(kwest.matches[9].solution)"
   ]
  },
  {
   "cell_type": "code",
   "execution_count": 1103,
   "id": "564cdebb-9a1e-4d61-8511-6d90f5bb3034",
   "metadata": {},
   "outputs": [
    {
     "data": {
      "text/plain": [
       "36"
      ]
     },
     "execution_count": 1103,
     "metadata": {},
     "output_type": "execute_result"
    }
   ],
   "source": [
    "len(kwest.matches[5].trips)"
   ]
  },
  {
   "cell_type": "code",
   "execution_count": 1104,
   "id": "f07c5b62-eaa2-49b4-b9c5-2d67d37a4322",
   "metadata": {},
   "outputs": [
    {
     "data": {
      "text/plain": [
       "15.945990347846259"
      ]
     },
     "execution_count": 1104,
     "metadata": {},
     "output_type": "execute_result"
    }
   ],
   "source": [
    "kwest.matches[9].error"
   ]
  },
  {
   "cell_type": "code",
   "execution_count": null,
   "id": "9ff59eae-a9a0-4a03-9c17-871cd7ae6e09",
   "metadata": {},
   "outputs": [],
   "source": []
  },
  {
   "cell_type": "code",
   "execution_count": null,
   "id": "e5ec3a0a-8760-40bb-9cd1-5ed509c6ff0e",
   "metadata": {},
   "outputs": [],
   "source": []
  },
  {
   "cell_type": "code",
   "execution_count": null,
   "id": "21bdd0d6-c072-42f9-ae75-be1f637c306d",
   "metadata": {},
   "outputs": [],
   "source": []
  },
  {
   "cell_type": "code",
   "execution_count": null,
   "id": "63c0dc59-ec80-47a9-802d-82ff9396646f",
   "metadata": {},
   "outputs": [],
   "source": []
  },
  {
   "cell_type": "code",
   "execution_count": null,
   "id": "e0a80dbe-1040-4edc-90ec-a876657c64c3",
   "metadata": {},
   "outputs": [],
   "source": []
  },
  {
   "cell_type": "code",
   "execution_count": null,
   "id": "b097c772-db06-4a50-98c4-36b1c554774e",
   "metadata": {},
   "outputs": [],
   "source": []
  },
  {
   "cell_type": "code",
   "execution_count": null,
   "id": "3fb6b118-7084-4126-8ebd-8eb3a145f620",
   "metadata": {},
   "outputs": [],
   "source": []
  },
  {
   "cell_type": "code",
   "execution_count": null,
   "id": "ed68e810-a8a5-494e-8430-1930855bd6a7",
   "metadata": {},
   "outputs": [],
   "source": []
  },
  {
   "cell_type": "code",
   "execution_count": null,
   "id": "e9ccd3b0-1b6c-4f10-9acb-4cbc282d0209",
   "metadata": {},
   "outputs": [],
   "source": []
  },
  {
   "cell_type": "code",
   "execution_count": null,
   "id": "ed68b530-8337-490f-9ea4-a9d68d4796cc",
   "metadata": {},
   "outputs": [],
   "source": []
  },
  {
   "cell_type": "code",
   "execution_count": null,
   "id": "a35258c5-6049-4c78-979a-93ebd37520c2",
   "metadata": {},
   "outputs": [],
   "source": []
  },
  {
   "cell_type": "code",
   "execution_count": null,
   "id": "2fb620ba-9afd-41dd-b239-49cb67cac4cf",
   "metadata": {},
   "outputs": [],
   "source": []
  },
  {
   "cell_type": "code",
   "execution_count": null,
   "id": "afe3786d-3fc5-440b-81ef-d2d6387cd13d",
   "metadata": {},
   "outputs": [],
   "source": []
  },
  {
   "cell_type": "code",
   "execution_count": null,
   "id": "85b855b4-7b73-4137-945a-76b2c74c5294",
   "metadata": {},
   "outputs": [],
   "source": []
  },
  {
   "cell_type": "code",
   "execution_count": null,
   "id": "e75cc7d4-2fae-4740-b1bc-fab8cff200ec",
   "metadata": {},
   "outputs": [],
   "source": []
  },
  {
   "cell_type": "code",
   "execution_count": null,
   "id": "90a8f86e-f886-4077-b0a1-07dab75d6a3e",
   "metadata": {},
   "outputs": [],
   "source": []
  },
  {
   "cell_type": "code",
   "execution_count": null,
   "id": "2aab1c12-2e3c-470a-9c52-28f8ea8dfc94",
   "metadata": {},
   "outputs": [],
   "source": []
  },
  {
   "cell_type": "code",
   "execution_count": null,
   "id": "cc6a9417-3f40-49e7-b3ea-f91d73520875",
   "metadata": {},
   "outputs": [],
   "source": []
  },
  {
   "cell_type": "code",
   "execution_count": null,
   "id": "d105c7da-7b85-4f34-91d1-e9a98e893e03",
   "metadata": {},
   "outputs": [],
   "source": []
  },
  {
   "cell_type": "code",
   "execution_count": null,
   "id": "f6604bbe-3a0f-45f7-94c7-30f23ed5c389",
   "metadata": {},
   "outputs": [],
   "source": []
  },
  {
   "cell_type": "code",
   "execution_count": null,
   "id": "2fd9324b-7020-4677-be1a-df31b3cba08c",
   "metadata": {},
   "outputs": [],
   "source": []
  }
 ],
 "metadata": {
  "kernelspec": {
   "display_name": "Python 3 (ipykernel)",
   "language": "python",
   "name": "python3"
  },
  "language_info": {
   "codemirror_mode": {
    "name": "ipython",
    "version": 3
   },
   "file_extension": ".py",
   "mimetype": "text/x-python",
   "name": "python",
   "nbconvert_exporter": "python",
   "pygments_lexer": "ipython3",
   "version": "3.9.7"
  }
 },
 "nbformat": 4,
 "nbformat_minor": 5
}
