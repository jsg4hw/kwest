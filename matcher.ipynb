{
 "cells": [
  {
   "cell_type": "markdown",
   "id": "e556311f-1e52-4c55-a76c-afa4e934d6b6",
   "metadata": {},
   "source": [
    "# KWEST Matching Program\n",
    "Code to match Kellogg students to a KWEST trip based on submitted preferences.\n",
    "\n",
    "#### Steps\n",
    "1. Change `INPUT_FPATH` and `OUTPUT_FPATH` to location of input trip preferences excel file and preferred output location for CSV file of trip rosters\n",
    "1. Run all code cells\n",
    "\n",
    "#### Suggestions\n",
    "- Require all students to submit 10 trip preferences - this increased likelihood of optimal trip matches"
   ]
  },
  {
   "cell_type": "code",
   "execution_count": null,
   "id": "e9850264-801e-4a62-8a95-d7fb1a269c8f",
   "metadata": {},
   "outputs": [],
   "source": []
  },
  {
   "cell_type": "code",
   "execution_count": null,
   "id": "fbf7eee9-2172-464f-a8a3-47845fe232a7",
   "metadata": {},
   "outputs": [],
   "source": []
  },
  {
   "cell_type": "code",
   "execution_count": null,
   "id": "09bc3d5e-6b7d-4b2f-8323-286b7c1be343",
   "metadata": {},
   "outputs": [],
   "source": []
  },
  {
   "cell_type": "markdown",
   "id": "7688ef93-9773-4c90-b43e-d46ebb580425",
   "metadata": {},
   "source": [
    "### Set `INPUT_FPATH` and `OUTPUT_FPATH`"
   ]
  },
  {
   "cell_type": "code",
   "execution_count": 50,
   "id": "a99c89a5-4a6c-4906-b09a-bc31de708b27",
   "metadata": {},
   "outputs": [],
   "source": [
    "import os\n",
    "INPUT_FPATH = os.path.join(os.getcwd(),'data.xlsx')\n",
    "OUTPUT_FPATH = os.path.join(os.getcwd(),'output.csv')"
   ]
  },
  {
   "cell_type": "markdown",
   "id": "41654b11-0948-486c-9b8b-5c827a24b2ec",
   "metadata": {
    "tags": []
   },
   "source": [
    "### Import\n",
    "\n",
    "##### Packages"
   ]
  },
  {
   "cell_type": "code",
   "execution_count": 51,
   "id": "aa9a309b-c118-4726-b9dc-2eaa8fae4abe",
   "metadata": {},
   "outputs": [],
   "source": [
    "from random import shuffle\n",
    "from math import ceil\n",
    "from itertools import product\n",
    "import numpy as np\n",
    "import pandas as pd\n",
    "from sklearn.neighbors import KNeighborsClassifier\n",
    "from matching.games import HospitalResident"
   ]
  },
  {
   "cell_type": "markdown",
   "id": "55c04fa0-b2a5-44e9-a215-e6999f83dd8f",
   "metadata": {},
   "source": [
    "##### Data"
   ]
  },
  {
   "cell_type": "code",
   "execution_count": 95,
   "id": "2943a530-5ff7-476d-b72f-9ef8ceada2a1",
   "metadata": {},
   "outputs": [],
   "source": [
    "df_input = pd.read_excel(INPUT_FPATH,dtype=str)"
   ]
  },
  {
   "cell_type": "markdown",
   "id": "bb4354c0-f3e3-4d59-a7d8-27c627fdde6e",
   "metadata": {},
   "source": [
    "##### Globals"
   ]
  },
  {
   "cell_type": "code",
   "execution_count": 96,
   "id": "2734108a-3329-49bf-8d2b-e2f98112e75c",
   "metadata": {},
   "outputs": [],
   "source": [
    "attr_cols = ['Netid','Gender','Program','Passport Country']#,'Date of Birth']\n",
    "vote_cols = ['Vote'+str(i+1) for i in range(10)]\n",
    "keep_cols = attr_cols + vote_cols + ['ParentNetid']"
   ]
  },
  {
   "cell_type": "markdown",
   "id": "3c855c41-eec2-460f-9978-abf97843fd49",
   "metadata": {
    "tags": []
   },
   "source": [
    "### Preference Prediction\n",
    "For students who set less than 10 preferences, predict the remaining slots using KNN algorithm."
   ]
  },
  {
   "cell_type": "code",
   "execution_count": 143,
   "id": "c9b92537-f586-4710-a421-a6d72b7c5cb4",
   "metadata": {},
   "outputs": [],
   "source": [
    "netid_votes = list(product(df_input['Netid'].unique().tolist(), [(i+1) for i in range(10)]))\n",
    "\n",
    "def _sig_other_indicator(row):\n",
    "    if row['Sig Other Coming'].lower() == 't':\n",
    "        return 1\n",
    "    else:\n",
    "        return 0\n",
    "df_input['Significant Other'] = df_input.apply(lambda row: _sig_other_indicator(row), axis=1)\n",
    "\n",
    "df_votes = pd.melt(df_input,id_vars=attr_cols+['Significant Other'],value_vars=vote_cols,var_name='Vote',value_name='Trip').dropna()\n",
    "df_votes['Gender'] = df_votes['Gender'].apply(lambda x: 1 if x=='F' else 0)\n",
    "df_votes['Program'] = df_votes['Program'].apply(lambda x: 1 if x=='2YMBA' else 0)\n",
    "df_votes['Passport Country'] = df_votes['Passport Country'].apply(lambda x: 1 if x=='UNITED STATES' else 0)\n",
    "df_votes['Vote'] = df_votes['Vote'].str.replace('Vote','').astype(int)\n",
    "\n",
    "df_blank = pd.DataFrame(netid_votes,columns=['Netid','Vote'])\\\n",
    "    .merge(df_votes[['Netid','Vote','Trip']],on=['Netid','Vote'],how='left')\\\n",
    "    .merge(df_votes[['Netid','Gender','Program','Passport Country','Significant Other']].drop_duplicates(),on=['Netid'],how='inner')\n",
    "df_blank = df_blank.loc[df_blank.Trip.isnull()].drop(columns='Trip')"
   ]
  },
  {
   "cell_type": "code",
   "execution_count": 144,
   "id": "254758cc-8828-4b92-a0ac-fe024c4e31b8",
   "metadata": {},
   "outputs": [],
   "source": [
    "vote_dfs = {}\n",
    "for vote in vote_cols:\n",
    "    vote_num = int(vote.replace('Vote',''))\n",
    "    vote_dfs[vote] = {\n",
    "        'fit': {\n",
    "            'x': df_votes.loc[df_votes.Vote==vote_num].set_index('Netid').drop(columns=['Trip','Vote']),\n",
    "            'y': df_votes.loc[df_votes.Vote==vote_num].set_index('Netid').Trip,\n",
    "        },\n",
    "        'predict': {\n",
    "            'x': df_blank.loc[df_blank.Vote==vote_num].set_index('Netid').drop(columns=['Vote']),\n",
    "            'y': None,\n",
    "        },\n",
    "    }"
   ]
  },
  {
   "cell_type": "code",
   "execution_count": 145,
   "id": "2b386b0e-8eb5-4ec3-8b06-dfb763880702",
   "metadata": {},
   "outputs": [],
   "source": [
    "for vote in vote_cols:\n",
    "    knn = KNeighborsClassifier(n_neighbors=5)\n",
    "    knn.fit(vote_dfs[vote]['fit']['x'], vote_dfs[vote]['fit']['y'])\n",
    "    if vote_dfs[vote]['predict']['x'].shape[0]>1:\n",
    "        vote_dfs[vote]['predict']['y'] = knn.predict(vote_dfs[vote]['predict']['x'])"
   ]
  },
  {
   "cell_type": "code",
   "execution_count": null,
   "id": "401081ee-c3b1-4e01-ae6a-0a311753f234",
   "metadata": {},
   "outputs": [],
   "source": []
  },
  {
   "cell_type": "code",
   "execution_count": null,
   "id": "cc66cd5f-4c2e-4f7e-a222-b82730a81d87",
   "metadata": {},
   "outputs": [],
   "source": []
  },
  {
   "cell_type": "code",
   "execution_count": 170,
   "id": "99ac96e4-0f15-4fbd-93e1-1be60091dda8",
   "metadata": {},
   "outputs": [
    {
     "data": {
      "text/html": [
       "<div>\n",
       "<style scoped>\n",
       "    .dataframe tbody tr th:only-of-type {\n",
       "        vertical-align: middle;\n",
       "    }\n",
       "\n",
       "    .dataframe tbody tr th {\n",
       "        vertical-align: top;\n",
       "    }\n",
       "\n",
       "    .dataframe thead th {\n",
       "        text-align: right;\n",
       "    }\n",
       "</style>\n",
       "<table border=\"1\" class=\"dataframe\">\n",
       "  <thead>\n",
       "    <tr style=\"text-align: right;\">\n",
       "      <th></th>\n",
       "      <th>Vote2</th>\n",
       "    </tr>\n",
       "  </thead>\n",
       "  <tbody>\n",
       "    <tr>\n",
       "      <th>0</th>\n",
       "      <td>200341 - Brazil</td>\n",
       "    </tr>\n",
       "    <tr>\n",
       "      <th>1</th>\n",
       "      <td>200337 - Amalfi Coast</td>\n",
       "    </tr>\n",
       "    <tr>\n",
       "      <th>2</th>\n",
       "      <td>200364 - Peru</td>\n",
       "    </tr>\n",
       "    <tr>\n",
       "      <th>3</th>\n",
       "      <td>200353 - Hawaii</td>\n",
       "    </tr>\n",
       "    <tr>\n",
       "      <th>4</th>\n",
       "      <td>200364 - Peru</td>\n",
       "    </tr>\n",
       "    <tr>\n",
       "      <th>5</th>\n",
       "      <td>200337 - Amalfi Coast</td>\n",
       "    </tr>\n",
       "  </tbody>\n",
       "</table>\n",
       "</div>"
      ],
      "text/plain": [
       "                   Vote2\n",
       "0        200341 - Brazil\n",
       "1  200337 - Amalfi Coast\n",
       "2          200364 - Peru\n",
       "3        200353 - Hawaii\n",
       "4          200364 - Peru\n",
       "5  200337 - Amalfi Coast"
      ]
     },
     "execution_count": 170,
     "metadata": {},
     "output_type": "execute_result"
    }
   ],
   "source": [
    "predict"
   ]
  },
  {
   "cell_type": "code",
   "execution_count": 172,
   "id": "35dbc131-f02c-4493-a571-15cb0f406fe6",
   "metadata": {},
   "outputs": [
    {
     "data": {
      "text/plain": [
       "array(['200341 - Brazil', '200337 - Amalfi Coast', '200364 - Peru',\n",
       "       '200353 - Hawaii', '200364 - Peru', '200337 - Amalfi Coast'],\n",
       "      dtype=object)"
      ]
     },
     "execution_count": 172,
     "metadata": {},
     "output_type": "execute_result"
    }
   ],
   "source": [
    "vote_dfs[vote]['predict']['y']"
   ]
  },
  {
   "cell_type": "code",
   "execution_count": 168,
   "id": "7100dbee-c4ee-4e57-8bc8-facfd7a85df6",
   "metadata": {},
   "outputs": [
    {
     "name": "stdout",
     "output_type": "stream",
     "text": [
      "Vote1\n",
      "Vote2\n"
     ]
    },
    {
     "ename": "ValueError",
     "evalue": "columns overlap but no suffix specified: Index(['Vote2'], dtype='object')",
     "output_type": "error",
     "traceback": [
      "\u001b[1;31m---------------------------------------------------------------------------\u001b[0m",
      "\u001b[1;31mValueError\u001b[0m                                Traceback (most recent call last)",
      "Input \u001b[1;32mIn [168]\u001b[0m, in \u001b[0;36m<cell line: 3>\u001b[1;34m()\u001b[0m\n\u001b[0;32m     11\u001b[0m \u001b[38;5;28;01mif\u001b[39;00m predict\u001b[38;5;241m.\u001b[39mshape[\u001b[38;5;241m0\u001b[39m] \u001b[38;5;241m>\u001b[39m \u001b[38;5;241m1\u001b[39m:\n\u001b[0;32m     12\u001b[0m     predict\u001b[38;5;241m.\u001b[39mcolumns \u001b[38;5;241m=\u001b[39m [vote]\n\u001b[1;32m---> 13\u001b[0m     df_predictions \u001b[38;5;241m=\u001b[39m \u001b[43mdf_predictions\u001b[49m\u001b[38;5;241;43m.\u001b[39;49m\u001b[43mjoin\u001b[49m\u001b[43m(\u001b[49m\u001b[43mpredict\u001b[49m\u001b[43m,\u001b[49m\u001b[43mhow\u001b[49m\u001b[38;5;241;43m=\u001b[39;49m\u001b[38;5;124;43m'\u001b[39;49m\u001b[38;5;124;43mleft\u001b[39;49m\u001b[38;5;124;43m'\u001b[39;49m\u001b[43m)\u001b[49m\n",
      "File \u001b[1;32m~\\miniconda3\\lib\\site-packages\\pandas\\core\\frame.py:9248\u001b[0m, in \u001b[0;36mDataFrame.join\u001b[1;34m(self, other, on, how, lsuffix, rsuffix, sort)\u001b[0m\n\u001b[0;32m   9094\u001b[0m \u001b[38;5;28;01mdef\u001b[39;00m \u001b[38;5;21mjoin\u001b[39m(\n\u001b[0;32m   9095\u001b[0m     \u001b[38;5;28mself\u001b[39m,\n\u001b[0;32m   9096\u001b[0m     other: DataFrame \u001b[38;5;241m|\u001b[39m Series,\n\u001b[1;32m   (...)\u001b[0m\n\u001b[0;32m   9101\u001b[0m     sort: \u001b[38;5;28mbool\u001b[39m \u001b[38;5;241m=\u001b[39m \u001b[38;5;28;01mFalse\u001b[39;00m,\n\u001b[0;32m   9102\u001b[0m ) \u001b[38;5;241m-\u001b[39m\u001b[38;5;241m>\u001b[39m DataFrame:\n\u001b[0;32m   9103\u001b[0m     \u001b[38;5;124;03m\"\"\"\u001b[39;00m\n\u001b[0;32m   9104\u001b[0m \u001b[38;5;124;03m    Join columns of another DataFrame.\u001b[39;00m\n\u001b[0;32m   9105\u001b[0m \n\u001b[1;32m   (...)\u001b[0m\n\u001b[0;32m   9246\u001b[0m \u001b[38;5;124;03m    5  K1  A5   B1\u001b[39;00m\n\u001b[0;32m   9247\u001b[0m \u001b[38;5;124;03m    \"\"\"\u001b[39;00m\n\u001b[1;32m-> 9248\u001b[0m     \u001b[38;5;28;01mreturn\u001b[39;00m \u001b[38;5;28;43mself\u001b[39;49m\u001b[38;5;241;43m.\u001b[39;49m\u001b[43m_join_compat\u001b[49m\u001b[43m(\u001b[49m\n\u001b[0;32m   9249\u001b[0m \u001b[43m        \u001b[49m\u001b[43mother\u001b[49m\u001b[43m,\u001b[49m\u001b[43m \u001b[49m\u001b[43mon\u001b[49m\u001b[38;5;241;43m=\u001b[39;49m\u001b[43mon\u001b[49m\u001b[43m,\u001b[49m\u001b[43m \u001b[49m\u001b[43mhow\u001b[49m\u001b[38;5;241;43m=\u001b[39;49m\u001b[43mhow\u001b[49m\u001b[43m,\u001b[49m\u001b[43m \u001b[49m\u001b[43mlsuffix\u001b[49m\u001b[38;5;241;43m=\u001b[39;49m\u001b[43mlsuffix\u001b[49m\u001b[43m,\u001b[49m\u001b[43m \u001b[49m\u001b[43mrsuffix\u001b[49m\u001b[38;5;241;43m=\u001b[39;49m\u001b[43mrsuffix\u001b[49m\u001b[43m,\u001b[49m\u001b[43m \u001b[49m\u001b[43msort\u001b[49m\u001b[38;5;241;43m=\u001b[39;49m\u001b[43msort\u001b[49m\n\u001b[0;32m   9250\u001b[0m \u001b[43m    \u001b[49m\u001b[43m)\u001b[49m\n",
      "File \u001b[1;32m~\\miniconda3\\lib\\site-packages\\pandas\\core\\frame.py:9279\u001b[0m, in \u001b[0;36mDataFrame._join_compat\u001b[1;34m(self, other, on, how, lsuffix, rsuffix, sort)\u001b[0m\n\u001b[0;32m   9270\u001b[0m     \u001b[38;5;28;01mif\u001b[39;00m how \u001b[38;5;241m==\u001b[39m \u001b[38;5;124m\"\u001b[39m\u001b[38;5;124mcross\u001b[39m\u001b[38;5;124m\"\u001b[39m:\n\u001b[0;32m   9271\u001b[0m         \u001b[38;5;28;01mreturn\u001b[39;00m merge(\n\u001b[0;32m   9272\u001b[0m             \u001b[38;5;28mself\u001b[39m,\n\u001b[0;32m   9273\u001b[0m             other,\n\u001b[1;32m   (...)\u001b[0m\n\u001b[0;32m   9277\u001b[0m             sort\u001b[38;5;241m=\u001b[39msort,\n\u001b[0;32m   9278\u001b[0m         )\n\u001b[1;32m-> 9279\u001b[0m     \u001b[38;5;28;01mreturn\u001b[39;00m \u001b[43mmerge\u001b[49m\u001b[43m(\u001b[49m\n\u001b[0;32m   9280\u001b[0m \u001b[43m        \u001b[49m\u001b[38;5;28;43mself\u001b[39;49m\u001b[43m,\u001b[49m\n\u001b[0;32m   9281\u001b[0m \u001b[43m        \u001b[49m\u001b[43mother\u001b[49m\u001b[43m,\u001b[49m\n\u001b[0;32m   9282\u001b[0m \u001b[43m        \u001b[49m\u001b[43mleft_on\u001b[49m\u001b[38;5;241;43m=\u001b[39;49m\u001b[43mon\u001b[49m\u001b[43m,\u001b[49m\n\u001b[0;32m   9283\u001b[0m \u001b[43m        \u001b[49m\u001b[43mhow\u001b[49m\u001b[38;5;241;43m=\u001b[39;49m\u001b[43mhow\u001b[49m\u001b[43m,\u001b[49m\n\u001b[0;32m   9284\u001b[0m \u001b[43m        \u001b[49m\u001b[43mleft_index\u001b[49m\u001b[38;5;241;43m=\u001b[39;49m\u001b[43mon\u001b[49m\u001b[43m \u001b[49m\u001b[38;5;129;43;01mis\u001b[39;49;00m\u001b[43m \u001b[49m\u001b[38;5;28;43;01mNone\u001b[39;49;00m\u001b[43m,\u001b[49m\n\u001b[0;32m   9285\u001b[0m \u001b[43m        \u001b[49m\u001b[43mright_index\u001b[49m\u001b[38;5;241;43m=\u001b[39;49m\u001b[38;5;28;43;01mTrue\u001b[39;49;00m\u001b[43m,\u001b[49m\n\u001b[0;32m   9286\u001b[0m \u001b[43m        \u001b[49m\u001b[43msuffixes\u001b[49m\u001b[38;5;241;43m=\u001b[39;49m\u001b[43m(\u001b[49m\u001b[43mlsuffix\u001b[49m\u001b[43m,\u001b[49m\u001b[43m \u001b[49m\u001b[43mrsuffix\u001b[49m\u001b[43m)\u001b[49m\u001b[43m,\u001b[49m\n\u001b[0;32m   9287\u001b[0m \u001b[43m        \u001b[49m\u001b[43msort\u001b[49m\u001b[38;5;241;43m=\u001b[39;49m\u001b[43msort\u001b[49m\u001b[43m,\u001b[49m\n\u001b[0;32m   9288\u001b[0m \u001b[43m    \u001b[49m\u001b[43m)\u001b[49m\n\u001b[0;32m   9289\u001b[0m \u001b[38;5;28;01melse\u001b[39;00m:\n\u001b[0;32m   9290\u001b[0m     \u001b[38;5;28;01mif\u001b[39;00m on \u001b[38;5;129;01mis\u001b[39;00m \u001b[38;5;129;01mnot\u001b[39;00m \u001b[38;5;28;01mNone\u001b[39;00m:\n",
      "File \u001b[1;32m~\\miniconda3\\lib\\site-packages\\pandas\\core\\reshape\\merge.py:122\u001b[0m, in \u001b[0;36mmerge\u001b[1;34m(left, right, how, on, left_on, right_on, left_index, right_index, sort, suffixes, copy, indicator, validate)\u001b[0m\n\u001b[0;32m     90\u001b[0m \u001b[38;5;129m@Substitution\u001b[39m(\u001b[38;5;124m\"\u001b[39m\u001b[38;5;130;01m\\n\u001b[39;00m\u001b[38;5;124mleft : DataFrame or named Series\u001b[39m\u001b[38;5;124m\"\u001b[39m)\n\u001b[0;32m     91\u001b[0m \u001b[38;5;129m@Appender\u001b[39m(_merge_doc, indents\u001b[38;5;241m=\u001b[39m\u001b[38;5;241m0\u001b[39m)\n\u001b[0;32m     92\u001b[0m \u001b[38;5;28;01mdef\u001b[39;00m \u001b[38;5;21mmerge\u001b[39m(\n\u001b[1;32m   (...)\u001b[0m\n\u001b[0;32m    105\u001b[0m     validate: \u001b[38;5;28mstr\u001b[39m \u001b[38;5;241m|\u001b[39m \u001b[38;5;28;01mNone\u001b[39;00m \u001b[38;5;241m=\u001b[39m \u001b[38;5;28;01mNone\u001b[39;00m,\n\u001b[0;32m    106\u001b[0m ) \u001b[38;5;241m-\u001b[39m\u001b[38;5;241m>\u001b[39m DataFrame:\n\u001b[0;32m    107\u001b[0m     op \u001b[38;5;241m=\u001b[39m _MergeOperation(\n\u001b[0;32m    108\u001b[0m         left,\n\u001b[0;32m    109\u001b[0m         right,\n\u001b[1;32m   (...)\u001b[0m\n\u001b[0;32m    120\u001b[0m         validate\u001b[38;5;241m=\u001b[39mvalidate,\n\u001b[0;32m    121\u001b[0m     )\n\u001b[1;32m--> 122\u001b[0m     \u001b[38;5;28;01mreturn\u001b[39;00m \u001b[43mop\u001b[49m\u001b[38;5;241;43m.\u001b[39;49m\u001b[43mget_result\u001b[49m\u001b[43m(\u001b[49m\u001b[43m)\u001b[49m\n",
      "File \u001b[1;32m~\\miniconda3\\lib\\site-packages\\pandas\\core\\reshape\\merge.py:718\u001b[0m, in \u001b[0;36m_MergeOperation.get_result\u001b[1;34m(self)\u001b[0m\n\u001b[0;32m    714\u001b[0m     \u001b[38;5;28mself\u001b[39m\u001b[38;5;241m.\u001b[39mleft, \u001b[38;5;28mself\u001b[39m\u001b[38;5;241m.\u001b[39mright \u001b[38;5;241m=\u001b[39m \u001b[38;5;28mself\u001b[39m\u001b[38;5;241m.\u001b[39m_indicator_pre_merge(\u001b[38;5;28mself\u001b[39m\u001b[38;5;241m.\u001b[39mleft, \u001b[38;5;28mself\u001b[39m\u001b[38;5;241m.\u001b[39mright)\n\u001b[0;32m    716\u001b[0m join_index, left_indexer, right_indexer \u001b[38;5;241m=\u001b[39m \u001b[38;5;28mself\u001b[39m\u001b[38;5;241m.\u001b[39m_get_join_info()\n\u001b[1;32m--> 718\u001b[0m llabels, rlabels \u001b[38;5;241m=\u001b[39m \u001b[43m_items_overlap_with_suffix\u001b[49m\u001b[43m(\u001b[49m\n\u001b[0;32m    719\u001b[0m \u001b[43m    \u001b[49m\u001b[38;5;28;43mself\u001b[39;49m\u001b[38;5;241;43m.\u001b[39;49m\u001b[43mleft\u001b[49m\u001b[38;5;241;43m.\u001b[39;49m\u001b[43m_info_axis\u001b[49m\u001b[43m,\u001b[49m\u001b[43m \u001b[49m\u001b[38;5;28;43mself\u001b[39;49m\u001b[38;5;241;43m.\u001b[39;49m\u001b[43mright\u001b[49m\u001b[38;5;241;43m.\u001b[39;49m\u001b[43m_info_axis\u001b[49m\u001b[43m,\u001b[49m\u001b[43m \u001b[49m\u001b[38;5;28;43mself\u001b[39;49m\u001b[38;5;241;43m.\u001b[39;49m\u001b[43msuffixes\u001b[49m\n\u001b[0;32m    720\u001b[0m \u001b[43m\u001b[49m\u001b[43m)\u001b[49m\n\u001b[0;32m    722\u001b[0m lindexers \u001b[38;5;241m=\u001b[39m {\u001b[38;5;241m1\u001b[39m: left_indexer} \u001b[38;5;28;01mif\u001b[39;00m left_indexer \u001b[38;5;129;01mis\u001b[39;00m \u001b[38;5;129;01mnot\u001b[39;00m \u001b[38;5;28;01mNone\u001b[39;00m \u001b[38;5;28;01melse\u001b[39;00m {}\n\u001b[0;32m    723\u001b[0m rindexers \u001b[38;5;241m=\u001b[39m {\u001b[38;5;241m1\u001b[39m: right_indexer} \u001b[38;5;28;01mif\u001b[39;00m right_indexer \u001b[38;5;129;01mis\u001b[39;00m \u001b[38;5;129;01mnot\u001b[39;00m \u001b[38;5;28;01mNone\u001b[39;00m \u001b[38;5;28;01melse\u001b[39;00m {}\n",
      "File \u001b[1;32m~\\miniconda3\\lib\\site-packages\\pandas\\core\\reshape\\merge.py:2313\u001b[0m, in \u001b[0;36m_items_overlap_with_suffix\u001b[1;34m(left, right, suffixes)\u001b[0m\n\u001b[0;32m   2310\u001b[0m lsuffix, rsuffix \u001b[38;5;241m=\u001b[39m suffixes\n\u001b[0;32m   2312\u001b[0m \u001b[38;5;28;01mif\u001b[39;00m \u001b[38;5;129;01mnot\u001b[39;00m lsuffix \u001b[38;5;129;01mand\u001b[39;00m \u001b[38;5;129;01mnot\u001b[39;00m rsuffix:\n\u001b[1;32m-> 2313\u001b[0m     \u001b[38;5;28;01mraise\u001b[39;00m \u001b[38;5;167;01mValueError\u001b[39;00m(\u001b[38;5;124mf\u001b[39m\u001b[38;5;124m\"\u001b[39m\u001b[38;5;124mcolumns overlap but no suffix specified: \u001b[39m\u001b[38;5;132;01m{\u001b[39;00mto_rename\u001b[38;5;132;01m}\u001b[39;00m\u001b[38;5;124m\"\u001b[39m)\n\u001b[0;32m   2315\u001b[0m \u001b[38;5;28;01mdef\u001b[39;00m \u001b[38;5;21mrenamer\u001b[39m(x, suffix):\n\u001b[0;32m   2316\u001b[0m     \u001b[38;5;124;03m\"\"\"\u001b[39;00m\n\u001b[0;32m   2317\u001b[0m \u001b[38;5;124;03m    Rename the left and right indices.\u001b[39;00m\n\u001b[0;32m   2318\u001b[0m \n\u001b[1;32m   (...)\u001b[0m\n\u001b[0;32m   2329\u001b[0m \u001b[38;5;124;03m    x : renamed column name\u001b[39;00m\n\u001b[0;32m   2330\u001b[0m \u001b[38;5;124;03m    \"\"\"\u001b[39;00m\n",
      "\u001b[1;31mValueError\u001b[0m: columns overlap but no suffix specified: Index(['Vote2'], dtype='object')"
     ]
    }
   ],
   "source": [
    "df_predictions = pd.DataFrame(df_input['Netid'].unique().tolist(),columns=['Netid']).set_index('Netid')\n",
    "\n",
    "for vote in vote_cols:\n",
    "    print(vote)\n",
    "    fit = pd.DataFrame(vote_dfs[vote]['fit']['y'])\n",
    "    if fit.shape[0] > 1:\n",
    "        fit.columns = [vote]\n",
    "        df_predictions = df_predictions.join(fit,how='left')\n",
    "    \n",
    "    predict = pd.DataFrame(vote_dfs[vote]['predict']['y'])\n",
    "    if predict.shape[0] > 1:\n",
    "        predict.columns = [vote]\n",
    "        df_predictions = df_predictions.join(predict,how='left')\n",
    "        "
   ]
  },
  {
   "cell_type": "code",
   "execution_count": 169,
   "id": "43e0e1a7-18d9-4bbe-a9f8-17d163e56f93",
   "metadata": {},
   "outputs": [
    {
     "data": {
      "text/html": [
       "<div>\n",
       "<style scoped>\n",
       "    .dataframe tbody tr th:only-of-type {\n",
       "        vertical-align: middle;\n",
       "    }\n",
       "\n",
       "    .dataframe tbody tr th {\n",
       "        vertical-align: top;\n",
       "    }\n",
       "\n",
       "    .dataframe thead th {\n",
       "        text-align: right;\n",
       "    }\n",
       "</style>\n",
       "<table border=\"1\" class=\"dataframe\">\n",
       "  <thead>\n",
       "    <tr style=\"text-align: right;\">\n",
       "      <th></th>\n",
       "      <th>Vote1</th>\n",
       "      <th>Vote2</th>\n",
       "    </tr>\n",
       "    <tr>\n",
       "      <th>Netid</th>\n",
       "      <th></th>\n",
       "      <th></th>\n",
       "    </tr>\n",
       "  </thead>\n",
       "  <tbody>\n",
       "    <tr>\n",
       "      <th>1</th>\n",
       "      <td>200370 - South of France</td>\n",
       "      <td>NaN</td>\n",
       "    </tr>\n",
       "    <tr>\n",
       "      <th>2</th>\n",
       "      <td>200372 - Spanish Mediterranean</td>\n",
       "      <td>200352 - Greek Islands</td>\n",
       "    </tr>\n",
       "    <tr>\n",
       "      <th>3</th>\n",
       "      <td>200367 - Slovenia</td>\n",
       "      <td>200364 - Peru</td>\n",
       "    </tr>\n",
       "    <tr>\n",
       "      <th>4</th>\n",
       "      <td>200361 - Mystery</td>\n",
       "      <td>200369 - South Korea</td>\n",
       "    </tr>\n",
       "    <tr>\n",
       "      <th>5</th>\n",
       "      <td>200360 - Morocco</td>\n",
       "      <td>200364 - Peru</td>\n",
       "    </tr>\n",
       "    <tr>\n",
       "      <th>...</th>\n",
       "      <td>...</td>\n",
       "      <td>...</td>\n",
       "    </tr>\n",
       "    <tr>\n",
       "      <th>565</th>\n",
       "      <td>200337 - Amalfi Coast</td>\n",
       "      <td>200371 - Southern Spain</td>\n",
       "    </tr>\n",
       "    <tr>\n",
       "      <th>566</th>\n",
       "      <td>200370 - South of France</td>\n",
       "      <td>200337 - Amalfi Coast</td>\n",
       "    </tr>\n",
       "    <tr>\n",
       "      <th>567</th>\n",
       "      <td>200360 - Morocco</td>\n",
       "      <td>200340 - Belize</td>\n",
       "    </tr>\n",
       "    <tr>\n",
       "      <th>568</th>\n",
       "      <td>200361 - Mystery</td>\n",
       "      <td>200342 - Budapest / Vienna</td>\n",
       "    </tr>\n",
       "    <tr>\n",
       "      <th>569</th>\n",
       "      <td>200351 - Finland / Estonia</td>\n",
       "      <td>200355 - Israel</td>\n",
       "    </tr>\n",
       "  </tbody>\n",
       "</table>\n",
       "<p>569 rows × 2 columns</p>\n",
       "</div>"
      ],
      "text/plain": [
       "                                Vote1                       Vote2\n",
       "Netid                                                            \n",
       "1            200370 - South of France                         NaN\n",
       "2      200372 - Spanish Mediterranean      200352 - Greek Islands\n",
       "3                   200367 - Slovenia               200364 - Peru\n",
       "4                    200361 - Mystery        200369 - South Korea\n",
       "5                    200360 - Morocco               200364 - Peru\n",
       "...                               ...                         ...\n",
       "565             200337 - Amalfi Coast     200371 - Southern Spain\n",
       "566          200370 - South of France       200337 - Amalfi Coast\n",
       "567                  200360 - Morocco             200340 - Belize\n",
       "568                  200361 - Mystery  200342 - Budapest / Vienna\n",
       "569        200351 - Finland / Estonia             200355 - Israel\n",
       "\n",
       "[569 rows x 2 columns]"
      ]
     },
     "execution_count": 169,
     "metadata": {},
     "output_type": "execute_result"
    }
   ],
   "source": [
    "df_predictions"
   ]
  },
  {
   "cell_type": "code",
   "execution_count": 157,
   "id": "ee117c2b-232c-4aa3-aa22-dffaf1bbfb45",
   "metadata": {},
   "outputs": [
    {
     "data": {
      "text/html": [
       "<div>\n",
       "<style scoped>\n",
       "    .dataframe tbody tr th:only-of-type {\n",
       "        vertical-align: middle;\n",
       "    }\n",
       "\n",
       "    .dataframe tbody tr th {\n",
       "        vertical-align: top;\n",
       "    }\n",
       "\n",
       "    .dataframe thead th {\n",
       "        text-align: right;\n",
       "    }\n",
       "</style>\n",
       "<table border=\"1\" class=\"dataframe\">\n",
       "  <thead>\n",
       "    <tr style=\"text-align: right;\">\n",
       "      <th></th>\n",
       "    </tr>\n",
       "    <tr>\n",
       "      <th>Netid</th>\n",
       "    </tr>\n",
       "  </thead>\n",
       "  <tbody>\n",
       "    <tr>\n",
       "      <th>1</th>\n",
       "    </tr>\n",
       "    <tr>\n",
       "      <th>2</th>\n",
       "    </tr>\n",
       "    <tr>\n",
       "      <th>3</th>\n",
       "    </tr>\n",
       "    <tr>\n",
       "      <th>4</th>\n",
       "    </tr>\n",
       "    <tr>\n",
       "      <th>5</th>\n",
       "    </tr>\n",
       "    <tr>\n",
       "      <th>...</th>\n",
       "    </tr>\n",
       "    <tr>\n",
       "      <th>565</th>\n",
       "    </tr>\n",
       "    <tr>\n",
       "      <th>566</th>\n",
       "    </tr>\n",
       "    <tr>\n",
       "      <th>567</th>\n",
       "    </tr>\n",
       "    <tr>\n",
       "      <th>568</th>\n",
       "    </tr>\n",
       "    <tr>\n",
       "      <th>569</th>\n",
       "    </tr>\n",
       "  </tbody>\n",
       "</table>\n",
       "<p>569 rows × 0 columns</p>\n",
       "</div>"
      ],
      "text/plain": [
       "Empty DataFrame\n",
       "Columns: []\n",
       "Index: [1, 2, 3, 4, 5, 6, 7, 8, 9, 10, 11, 12, 13, 14, 15, 16, 17, 18, 19, 20, 21, 22, 23, 24, 25, 26, 27, 28, 29, 30, 31, 32, 33, 34, 35, 36, 37, 38, 39, 40, 41, 42, 43, 44, 45, 46, 47, 48, 49, 50, 51, 52, 53, 54, 55, 56, 57, 58, 59, 60, 61, 62, 63, 64, 65, 66, 67, 68, 69, 70, 71, 72, 73, 74, 75, 76, 77, 78, 79, 80, 81, 82, 83, 84, 85, 86, 87, 88, 89, 90, 91, 92, 93, 94, 95, 96, 97, 98, 99, 100, ...]\n",
       "\n",
       "[569 rows x 0 columns]"
      ]
     },
     "execution_count": 157,
     "metadata": {},
     "output_type": "execute_result"
    }
   ],
   "source": [
    "df_predictions"
   ]
  },
  {
   "cell_type": "code",
   "execution_count": null,
   "id": "2baede0e-3a31-467e-961f-8b1ac1c7ae8b",
   "metadata": {},
   "outputs": [],
   "source": []
  },
  {
   "cell_type": "code",
   "execution_count": null,
   "id": "6bb5b47f-4f86-45da-ab5d-a5ab58bf4a3e",
   "metadata": {},
   "outputs": [],
   "source": []
  },
  {
   "cell_type": "code",
   "execution_count": null,
   "id": "f1d039bc-baee-4b98-bc02-9b75f86aaeef",
   "metadata": {},
   "outputs": [],
   "source": []
  },
  {
   "cell_type": "code",
   "execution_count": null,
   "id": "352e7bf5-5735-4164-afbb-78c13c83ed09",
   "metadata": {},
   "outputs": [],
   "source": []
  },
  {
   "cell_type": "code",
   "execution_count": null,
   "id": "578bd2f2-9b6d-4bcc-8520-038824a2a844",
   "metadata": {},
   "outputs": [],
   "source": []
  },
  {
   "cell_type": "code",
   "execution_count": null,
   "id": "d7b516da-421d-474a-bf87-a845c62a05ef",
   "metadata": {},
   "outputs": [],
   "source": []
  },
  {
   "cell_type": "code",
   "execution_count": null,
   "id": "b6efeaba-bc52-4a7b-b8ba-76043d325baf",
   "metadata": {},
   "outputs": [],
   "source": []
  },
  {
   "cell_type": "code",
   "execution_count": null,
   "id": "8cbc182d-b03e-4d98-9ca2-1114df5d1212",
   "metadata": {},
   "outputs": [],
   "source": []
  },
  {
   "cell_type": "code",
   "execution_count": null,
   "id": "43106e65-f8e8-4a63-91e6-107480c2bbdd",
   "metadata": {},
   "outputs": [],
   "source": []
  },
  {
   "cell_type": "code",
   "execution_count": null,
   "id": "dbf680fc-df4f-44fa-8956-223b03db8d2b",
   "metadata": {},
   "outputs": [],
   "source": []
  },
  {
   "cell_type": "code",
   "execution_count": null,
   "id": "a5738ccf-3c35-4583-ae60-26f094a6083e",
   "metadata": {},
   "outputs": [],
   "source": []
  },
  {
   "cell_type": "code",
   "execution_count": null,
   "id": "c0a5c1e9-c03c-4ff0-94a6-385ed969277b",
   "metadata": {},
   "outputs": [],
   "source": []
  },
  {
   "cell_type": "code",
   "execution_count": null,
   "id": "c16eb707-aeb3-4203-be27-d7870645ddd9",
   "metadata": {},
   "outputs": [],
   "source": []
  },
  {
   "cell_type": "code",
   "execution_count": null,
   "id": "e4b8a4da-842f-48e1-b89d-f2c02986c470",
   "metadata": {},
   "outputs": [],
   "source": []
  },
  {
   "cell_type": "code",
   "execution_count": null,
   "id": "7e9c1776-04b7-4a3a-b2d1-8f72af023026",
   "metadata": {},
   "outputs": [],
   "source": []
  },
  {
   "cell_type": "code",
   "execution_count": null,
   "id": "f906f5aa-829a-4ecf-8366-0e3a6d3df256",
   "metadata": {},
   "outputs": [],
   "source": []
  },
  {
   "cell_type": "code",
   "execution_count": null,
   "id": "fb63e0d4-f2b8-4c3d-a894-d7e0da7b2222",
   "metadata": {},
   "outputs": [],
   "source": []
  },
  {
   "cell_type": "code",
   "execution_count": null,
   "id": "31f8f82e-9581-436f-b69c-a9f05ec07847",
   "metadata": {},
   "outputs": [],
   "source": []
  },
  {
   "cell_type": "code",
   "execution_count": null,
   "id": "1461e9e6-2281-4970-8304-51b97c106745",
   "metadata": {},
   "outputs": [],
   "source": []
  },
  {
   "cell_type": "code",
   "execution_count": null,
   "id": "d2c8d234-12a1-4bfe-96c7-efbab190a3f6",
   "metadata": {},
   "outputs": [],
   "source": []
  },
  {
   "cell_type": "code",
   "execution_count": null,
   "id": "4dc27372-925a-4b2c-8dab-d27573ff0602",
   "metadata": {},
   "outputs": [],
   "source": []
  },
  {
   "cell_type": "code",
   "execution_count": null,
   "id": "84a02368-3c03-4b9c-b997-673c5aa9d490",
   "metadata": {},
   "outputs": [],
   "source": []
  },
  {
   "cell_type": "code",
   "execution_count": null,
   "id": "58da8538-0d56-4a66-a32b-05398e5b1e9b",
   "metadata": {},
   "outputs": [],
   "source": []
  },
  {
   "cell_type": "code",
   "execution_count": null,
   "id": "0c01411a-e77d-43ec-9cd7-5dee2ba3ec5f",
   "metadata": {},
   "outputs": [],
   "source": []
  },
  {
   "cell_type": "code",
   "execution_count": null,
   "id": "29282397-6039-4b44-a47c-6e4fd2e3b567",
   "metadata": {},
   "outputs": [],
   "source": []
  },
  {
   "cell_type": "markdown",
   "id": "7967c38e-039b-4874-920f-9baa00e85479",
   "metadata": {
    "tags": []
   },
   "source": [
    "### Data Manipulation"
   ]
  },
  {
   "cell_type": "markdown",
   "id": "7e7e860d-0499-4c3a-a2ba-2ff5d387743c",
   "metadata": {
    "tags": []
   },
   "source": [
    "##### Add Rows for JVs\n",
    "In order to use the Hospital-Resident matching algorithm, the data needs a single row for each individual attending a trip. Data rows for JVs are created by using JV attributes (gender, nationality, etc.) and copying their partner's trip preferences."
   ]
  },
  {
   "cell_type": "code",
   "execution_count": 85,
   "id": "fd42f155-9f5a-40e3-9ff4-b0f2fea9f43d",
   "metadata": {},
   "outputs": [],
   "source": [
    "jv_rows = []\n",
    "for idx,row in df_input.loc[(df_input['Sig Other Coming'] == 'T') & (df_input['Sig Other Kellogg Student'] != 'T')].iterrows():\n",
    "    jv_rows.append({\n",
    "        'Netid': str(row['Netid'])+'JV',\n",
    "        'ParentNetid': str(row['Netid']),\n",
    "        'Gender': row['Significant Gender'],\n",
    "        'Program': 'JV',\n",
    "        'Passport Country': row['Significant Passport Country'],\n",
    "        'Vote1': row['Vote1'],\n",
    "        'Vote2': row['Vote2'],\n",
    "        'Vote3': row['Vote3'],\n",
    "        'Vote4': row['Vote4'],\n",
    "        'Vote5': row['Vote5'],\n",
    "        'Vote6': row['Vote6'],\n",
    "        'Vote7': row['Vote7'],\n",
    "        'Vote8': row['Vote8'],\n",
    "        'Vote9': row['Vote9'],\n",
    "        'Vote10': row['Vote10'],\n",
    "    })\n",
    "    \n",
    "df_input = pd.concat([df_input,pd.DataFrame(jv_rows)],sort=False,ignore_index=True)[keep_cols]"
   ]
  },
  {
   "cell_type": "markdown",
   "id": "b43ba38e-7d3c-44eb-ba73-cc3b580face4",
   "metadata": {},
   "source": [
    "##### Create Field Groupings\n",
    "- Program (2YMVA vs Other)\n",
    "- Nationality (US vs Other)\n",
    "- Gender (M vs Other)"
   ]
  },
  {
   "cell_type": "code",
   "execution_count": 86,
   "id": "12e54b71-7ef9-456f-ae95-150e2f401b12",
   "metadata": {},
   "outputs": [],
   "source": [
    "# groupings for program, nationality, gender\n",
    "df_input['Program'] = df_input['Program'].apply(lambda x: x if x in ['2YMBA'] else 'OTHER') # 1YMBA\n",
    "df_input['Passport Country'] = df_input['Passport Country'].apply(lambda x: x if x in ['UNITED STATES'] else 'OTHER')\n",
    "# df_input['Gender'] = df_input['Gender'].apply(lambda x: '1' if x in ['M'] else '0') # 1YMBA"
   ]
  },
  {
   "cell_type": "markdown",
   "id": "88b1e6c4-6c85-468c-89e1-2a0d39a4a6ff",
   "metadata": {},
   "source": [
    "##### Calculate Demographic Constraint Ranges\n",
    "- Constraints: gender, program, nationality"
   ]
  },
  {
   "cell_type": "code",
   "execution_count": 37,
   "id": "ecc25b38-9367-44ba-909c-055732c3ec0f",
   "metadata": {},
   "outputs": [],
   "source": [
    "# # demographic constraint distribution range calculations\n",
    "# margin = 0.15\n",
    "# # constraints\n",
    "# dist_female = round(df_input.groupby('Gender')['Netid'].count()/len(df_input),4)['F']\n",
    "# rng_female = [round(dist_female-margin,2),round(dist_female+margin,2)]\n",
    "# print(dist_female)\n",
    "# print(rng_female)\n",
    "# dist_2y = round(df_input.groupby('Program')['Netid'].count()/len(df_input),4)['2YMBA']\n",
    "# rng_2y = [round(dist_2y-margin,2),round(dist_2y+margin,2)]\n",
    "# print(dist_2y)\n",
    "# print(rng_2y)\n",
    "# dist_amer = round(df_input.groupby('Passport Country')['Netid'].count()/len(df_input),4)['UNITED STATES']\n",
    "# # rng_nationality = [round(dist_amer-0.25,2),round(dist_amer+0.25,2)]\n",
    "# rng_amer = [0.1,0.9]\n",
    "# print(dist_amer)\n",
    "# print(rng_amer)"
   ]
  },
  {
   "cell_type": "markdown",
   "id": "fd516a0e-371a-49e4-8bff-46ff6285cec7",
   "metadata": {},
   "source": [
    "##### Create Unique Trip / NetID Lists"
   ]
  },
  {
   "cell_type": "code",
   "execution_count": 53,
   "id": "06e80aba-4628-40b9-83bf-c6d2b9f203f9",
   "metadata": {},
   "outputs": [],
   "source": [
    "trips_unique = [df_input[i].tolist() for i in votes]\n",
    "trips_unique = [t for trip in trips_unique for t in trip if str(t) != 'nan']\n",
    "trips_unique = set(trips_unique)\n",
    "netid_unique = [str(i) for i in df_input['Netid'].unique()]"
   ]
  },
  {
   "cell_type": "markdown",
   "id": "a39e963d-78e5-42b6-8479-906287927e12",
   "metadata": {},
   "source": [
    "##### Select Available Trips by Popularity"
   ]
  },
  {
   "cell_type": "code",
   "execution_count": 62,
   "id": "3f13a7d5-6d61-4f47-a078-a57f09635e32",
   "metadata": {},
   "outputs": [],
   "source": [
    "trip_cap = 18\n",
    "extra_trips = 2\n",
    "trips_needed = ceil(len(netid_unique)/trip_cap)\n",
    "trip_votes = pd.melt(df_input[['Netid']+votes],id_vars=['Netid'],value_vars=votes,var_name='Vote',value_name='Trip').groupby('Trip')['Netid']\n",
    "trips_final = trip_votes.count().sort_values(ascending=False)[:trips_needed].index.tolist()\n",
    "trip_capacity = {trip:trip_cap for trip in trips_final}\n",
    "_trips = trip_votes.apply(list).loc[_trips.index.isin(trips_final)].to_dict()"
   ]
  },
  {
   "cell_type": "markdown",
   "id": "7303259b-98f7-4345-8628-7ba3903ca86d",
   "metadata": {},
   "source": [
    "##### Student Preferences\n",
    "- Outputs a list of students who didn't choose any of the most popular trips"
   ]
  },
  {
   "cell_type": "code",
   "execution_count": 63,
   "id": "4e93cfc6-a46f-4027-8d8e-1efd87f20be1",
   "metadata": {},
   "outputs": [
    {
     "data": {
      "text/plain": [
       "[]"
      ]
     },
     "execution_count": 63,
     "metadata": {},
     "output_type": "execute_result"
    }
   ],
   "source": [
    "student_preferences = {}\n",
    "no_preference_students = []\n",
    "for idx,row in df_input.iterrows():\n",
    "    prefs = [i for i in row[votes].values.tolist() if (str(i) != 'nan') & (i in trips_final)]\n",
    "    if prefs != []:\n",
    "        student_preferences[str(row['Netid'])] = prefs\n",
    "    else:\n",
    "        no_preference_students.append(str(row['Netid']))\n",
    "no_preference_students"
   ]
  },
  {
   "cell_type": "code",
   "execution_count": null,
   "id": "7bb76847-b892-4abf-bf7c-0773c2ee9a40",
   "metadata": {
    "tags": []
   },
   "outputs": [],
   "source": []
  },
  {
   "cell_type": "code",
   "execution_count": null,
   "id": "11dd360a-20a4-4798-b01d-2d68ab526215",
   "metadata": {},
   "outputs": [],
   "source": []
  },
  {
   "cell_type": "code",
   "execution_count": null,
   "id": "b039a478-ab34-4512-b477-fd8636da2916",
   "metadata": {},
   "outputs": [],
   "source": []
  },
  {
   "cell_type": "code",
   "execution_count": null,
   "id": "2309146f-b422-4dcf-aac0-c81b54ad6b67",
   "metadata": {},
   "outputs": [],
   "source": []
  },
  {
   "cell_type": "code",
   "execution_count": null,
   "id": "17f6b354-003b-4d8d-99e0-7bed6d47999c",
   "metadata": {},
   "outputs": [],
   "source": []
  },
  {
   "cell_type": "markdown",
   "id": "f71d1bb4-4caa-4dbe-beac-f38ee79cf764",
   "metadata": {},
   "source": [
    "### Matching Program"
   ]
  },
  {
   "cell_type": "code",
   "execution_count": 64,
   "id": "6a54440b-6535-46c9-8f52-a946d10905b1",
   "metadata": {
    "tags": []
   },
   "outputs": [
    {
     "name": "stdout",
     "output_type": "stream",
     "text": [
      "run out of iterations\n"
     ]
    }
   ],
   "source": [
    "iterations = 1000\n",
    "matches = {}\n",
    "top_match = (None,100)\n",
    "\n",
    "for i in range(iterations):\n",
    "\n",
    "    trip_preferences = {}\n",
    "    for trip,netids in _trips.items():\n",
    "        _netids = [str(i) for i in netids]\n",
    "        shuffle(_netids)\n",
    "        # put a JV directly after partner - max chance of assigned together\n",
    "        for netid in _netids:\n",
    "            if netid[-2:]=='JV':\n",
    "                _netids.insert(\n",
    "                    # in the spot directly after student partner\n",
    "                    _netids.index(netid[:-2])+1,\n",
    "                    # insert the jv netid\n",
    "                    _netids.pop(_netids.index(netid))\n",
    "                )\n",
    "        trip_preferences[trip] = _netids\n",
    "\n",
    "    game = HospitalResident.create_from_dictionaries(\n",
    "        student_preferences,\n",
    "        trip_preferences,\n",
    "        trip_capacity\n",
    "    )\n",
    "\n",
    "    match = game.solve(optimal='resident')\n",
    "\n",
    "    matched_students = []\n",
    "    for _, students in match.items():\n",
    "        for student in students:\n",
    "            matched_students.append(student.name)\n",
    "\n",
    "    unmatched_students = set(student_preferences.keys()) - set(matched_students)\n",
    "\n",
    "    if len(unmatched_students) == 0:\n",
    "        matches[str(i)] = {'match': match,'jv':[]}\n",
    "        issues = 0\n",
    "        trip_num = 0\n",
    "        try:\n",
    "            for trip,students in match.items():\n",
    "                trip_num+=1\n",
    "                students = [str(i.name) for i in students]\n",
    "                s = len(students)\n",
    "                f = 0\n",
    "                am = 0\n",
    "                y2 = 0\n",
    "                for student in students:\n",
    "                    # jvs with partners\n",
    "                    if student[-2:]=='JV':\n",
    "                        if str(student[:-2]) not in students:\n",
    "                            issues+=1\n",
    "                            matches[str(i)]['jv'].append(student)\n",
    "                    # demographic info\n",
    "                    demo = df_input.loc[df_input['Netid'].apply(str)==student]\n",
    "                    if demo['Gender'].values[0] == 'F':\n",
    "                        f+=1\n",
    "                    if demo['Passport Country'].values[0] == 'UNITED STATES':\n",
    "                        am+=1\n",
    "                    if demo['Program'].values[0] == '2YMBA':\n",
    "                        y2+=1\n",
    "\n",
    "            \n",
    "            matches[str(i)]['issues'] = issues\n",
    "            if issues < top_match[1]:\n",
    "                top_match = (str(i),issues)\n",
    "\n",
    "        except Exception as e:\n",
    "            # raise\n",
    "            print('match',i+1,'trip',trip_num,'failed:',e)\n",
    "            continue"
   ]
  },
  {
   "cell_type": "code",
   "execution_count": null,
   "id": "4720ea0c-b392-4f6e-9055-e3cf429a55f9",
   "metadata": {},
   "outputs": [],
   "source": []
  },
  {
   "cell_type": "code",
   "execution_count": 66,
   "id": "c6d83324-3302-4aac-abc1-4c9f5732eb39",
   "metadata": {},
   "outputs": [],
   "source": []
  },
  {
   "cell_type": "code",
   "execution_count": null,
   "id": "7a009f48-8e13-40d6-8d8b-714e15c02437",
   "metadata": {},
   "outputs": [],
   "source": []
  },
  {
   "cell_type": "code",
   "execution_count": null,
   "id": "cf20278f-dd1d-4917-9733-77585e34c026",
   "metadata": {},
   "outputs": [],
   "source": []
  },
  {
   "cell_type": "code",
   "execution_count": null,
   "id": "57c8123f-08d9-44f4-9aa4-4866ececacb3",
   "metadata": {},
   "outputs": [],
   "source": []
  },
  {
   "cell_type": "code",
   "execution_count": null,
   "id": "7226fd21-7e96-49c0-814b-3843c0e00ed0",
   "metadata": {},
   "outputs": [],
   "source": []
  },
  {
   "cell_type": "code",
   "execution_count": null,
   "id": "113582c1-7931-4c24-9278-609777f4d0e7",
   "metadata": {},
   "outputs": [],
   "source": []
  },
  {
   "cell_type": "code",
   "execution_count": null,
   "id": "1d8f953f-1adf-4d37-bbe7-7abcc5cc30b2",
   "metadata": {},
   "outputs": [],
   "source": []
  },
  {
   "cell_type": "code",
   "execution_count": null,
   "id": "776f1762-a49a-49ba-8fcf-fe7c56091d9a",
   "metadata": {},
   "outputs": [],
   "source": []
  },
  {
   "cell_type": "code",
   "execution_count": null,
   "id": "5ede7a1f-d753-483c-8ad7-32fd24be4a11",
   "metadata": {},
   "outputs": [],
   "source": []
  },
  {
   "cell_type": "code",
   "execution_count": null,
   "id": "ef65a982-dcb0-450d-8d68-67c71c299d53",
   "metadata": {},
   "outputs": [],
   "source": []
  },
  {
   "cell_type": "code",
   "execution_count": null,
   "id": "8c06d523-16c2-43d2-983a-1fc2a5107306",
   "metadata": {},
   "outputs": [],
   "source": []
  },
  {
   "cell_type": "code",
   "execution_count": null,
   "id": "7a8ff2be-f7a8-4e1b-98f7-a927c021824e",
   "metadata": {},
   "outputs": [],
   "source": []
  },
  {
   "cell_type": "code",
   "execution_count": null,
   "id": "ccdd6db5-1ed1-4417-8343-6df47adf7d70",
   "metadata": {},
   "outputs": [],
   "source": []
  },
  {
   "cell_type": "code",
   "execution_count": null,
   "id": "0b4affbd-d1f6-4eee-a5cb-1e5a5f61f0e9",
   "metadata": {},
   "outputs": [],
   "source": []
  },
  {
   "cell_type": "code",
   "execution_count": null,
   "id": "1f7c11f3-14db-40cf-b179-126b5adfaef7",
   "metadata": {},
   "outputs": [],
   "source": []
  },
  {
   "cell_type": "code",
   "execution_count": null,
   "id": "1019ad68-4cb2-4021-9a19-0c5f3d4e53b5",
   "metadata": {},
   "outputs": [],
   "source": []
  },
  {
   "cell_type": "code",
   "execution_count": null,
   "id": "bb42a854-b195-4b11-9ad2-d8e92208071b",
   "metadata": {},
   "outputs": [],
   "source": []
  },
  {
   "cell_type": "code",
   "execution_count": null,
   "id": "4b48ff4f-5d6f-41e2-85b1-a2e01a04c13e",
   "metadata": {},
   "outputs": [],
   "source": []
  },
  {
   "cell_type": "code",
   "execution_count": 13,
   "id": "dfac5b22-0d26-4419-974c-727e50955ea0",
   "metadata": {},
   "outputs": [
    {
     "name": "stdout",
     "output_type": "stream",
     "text": [
      "54 issues: 9\n",
      "55 issues: 11\n",
      "122 issues: 11\n",
      "193 issues: 14\n",
      "194 issues: 14\n",
      "200 issues: 15\n",
      "254 issues: 14\n",
      "256 issues: 17\n",
      "260 issues: 16\n",
      "354 issues: 17\n",
      "389 issues: 16\n",
      "407 issues: 10\n",
      "448 issues: 13\n",
      "480 issues: 12\n",
      "506 issues: 12\n",
      "597 issues: 11\n",
      "677 issues: 11\n",
      "682 issues: 15\n",
      "979 issues: 11\n"
     ]
    }
   ],
   "source": [
    "for k,v in matches.items():\n",
    "    print(k,'issues:',v['issues'])"
   ]
  },
  {
   "cell_type": "code",
   "execution_count": 14,
   "id": "43a5c9a2-b9dc-4096-b340-4d5f911044f4",
   "metadata": {},
   "outputs": [
    {
     "data": {
      "text/plain": [
       "('54', 9)"
      ]
     },
     "execution_count": 14,
     "metadata": {},
     "output_type": "execute_result"
    }
   ],
   "source": [
    "top_match"
   ]
  },
  {
   "cell_type": "code",
   "execution_count": 15,
   "id": "c2ed5453-f219-4081-94b0-2019068b2000",
   "metadata": {},
   "outputs": [
    {
     "name": "stdout",
     "output_type": "stream",
     "text": [
      "200336 - Alaska :  20\n",
      "200337 - Amalfi Coast :  20\n",
      "200338 - Amazing Race :  20\n",
      "200339 - Bali :  20\n",
      "200340 - Belize :  20\n",
      "200341 - Brazil :  20\n",
      "200342 - Budapest / Vienna :  20\n",
      "200343 - Bulgaria :  20\n",
      "200344 - Canary Islands :  20\n",
      "200345 - Chile :  20\n",
      "200346 - Colombia :  20\n",
      "200347 - Crete :  20\n",
      "200348 - Croatia :  20\n",
      "200349 - Cyprus :  20\n",
      "200351 - Finland / Estonia :  20\n",
      "200352 - Greek Islands :  20\n",
      "200353 - Hawaii :  18\n",
      "200354 - Hong Kong / Taiwan :  15\n",
      "200355 - Israel :  20\n",
      "200356 - Italian Adriatic :  20\n",
      "200357 - Jamaica :  17\n",
      "200358 - Malta / Sicily :  20\n",
      "200359 - Montenegro :  20\n",
      "200360 - Morocco :  20\n",
      "200361 - Mystery :  20\n",
      "200362 - New Zealand :  20\n",
      "200363 - Northern Spain :  20\n",
      "200364 - Peru :  20\n",
      "200365 - Portugal :  20\n",
      "200366 - Romania :  18\n",
      "200367 - Slovenia :  20\n",
      "200368 - South Africa :  20\n",
      "200370 - South of France :  20\n",
      "200371 - Southern Spain :  20\n",
      "200372 - Spanish Mediterranean :  20\n",
      "200374 - Vietnam :  14\n"
     ]
    }
   ],
   "source": [
    "for k,v in matches[top_match[0]]['match'].items():\n",
    "    print(k,': ',len(v))"
   ]
  },
  {
   "cell_type": "code",
   "execution_count": 16,
   "id": "cb9c7c39-8252-4ce9-993f-b4e43f0c2256",
   "metadata": {},
   "outputs": [
    {
     "name": "stdout",
     "output_type": "stream",
     "text": [
      "200336 - Alaska :  20   [99, 99JV, 511, 247, 567, 567JV, 423, 423JV, 330, 407, 266, 208, 407JV, 345, 434, 434JV, 201, 524, 223, 468]\n",
      "200337 - Amalfi Coast :  20   [118, 39, 39JV, 28, 252, 252JV, 443, 260, 484, 450, 450JV, 347, 456, 104, 44, 6, 428, 565, 319, 162]\n",
      "200338 - Amazing Race :  20   [30, 30JV, 339, 115, 115JV, 316, 418, 387, 516, 371, 445, 400, 126, 92, 92JV, 410, 461, 45, 61, 85]\n",
      "200339 - Bali :  20   [81, 373, 425, 315, 546, 546JV, 378, 378JV, 156, 529, 103, 514, 514JV, 242, 302, 227, 170, 170JV, 139, 116]\n",
      "200340 - Belize :  20   [18, 7, 7JV, 140, 140JV, 495, 90, 241, 241JV, 182, 221, 17, 256, 527, 482, 475, 297, 37, 214, 214JV]\n",
      "200341 - Brazil :  20   [232, 229, 369, 46, 206, 338, 338JV, 171, 48, 82, 382, 55, 57, 362, 356, 363, 363JV, 379, 168, 168JV]\n",
      "200342 - Budapest / Vienna :  20   [14, 286, 536, 526, 419, 568, 185, 185JV, 296, 153, 153JV, 132, 132JV, 476, 183, 493, 493JV, 518, 518JV, 250]\n",
      "200343 - Bulgaria :  20   [121, 325, 33, 11, 11JV, 367, 467, 486, 486JV, 322, 322JV, 144, 172, 548, 254, 50, 281, 489, 489JV, 274]\n",
      "200344 - Canary Islands :  20   [263, 32, 35, 35JV, 195, 26, 178, 178JV, 51, 51JV, 16, 279, 186, 186JV, 346, 122, 122JV, 177, 177JV, 200]\n",
      "200345 - Chile :  20   [465, 236, 131, 466, 510, 267, 462, 59, 334, 323, 355, 355JV, 42, 352, 448, 448JV, 503, 399, 452, 49]\n",
      "200346 - Colombia :  20   [451, 453, 278, 283, 276, 141, 74, 169, 313, 203, 251JV, 257, 25, 38, 38JV, 394, 402, 87, 53, 53JV]\n",
      "200347 - Crete :  20   [368, 507, 165, 272, 261, 348, 204, 522, 192, 472, 509, 100, 130, 130JV, 167, 134, 222, 218, 102, 102JV]\n",
      "200348 - Croatia :  20   [354, 108, 294, 280, 438, 534, 138, 138JV, 342, 342JV, 269, 9, 148, 148JV, 21, 175, 175JV, 106, 392, 392JV]\n",
      "200349 - Cyprus :  20   [444, 385JV, 79JV, 365, 531, 20, 77, 181, 181JV, 437, 123, 34, 34JV, 366, 366JV, 73, 386, 112, 194, 285]\n",
      "200351 - Finland / Estonia :  20   [569, 569JV, 287, 538, 83, 105, 436, 161, 161JV, 76, 551, 251, 333, 553, 351, 72, 561, 561JV, 84, 176]\n",
      "200352 - Greek Islands :  20   [473, 94, 152, 210, 207, 117, 117JV, 484JV, 179, 234, 234JV, 372, 380, 166, 358, 341, 303, 388, 556, 375]\n",
      "200353 - Hawaii :  18   [544, 68, 68JV, 157, 157JV, 469, 15, 15JV, 397, 397JV, 496, 496JV, 321, 321JV, 543, 262, 542, 78]\n",
      "200354 - Hong Kong / Taiwan :  15   [271, 421, 421JV, 248, 490, 504, 124, 124JV, 75, 75JV, 310, 310JV, 389, 142, 332]\n",
      "200355 - Israel :  20   [309, 215, 478, 480, 295, 295JV, 71, 454, 454JV, 114, 268, 238, 523, 533, 533JV, 58, 506, 306, 433, 433JV]\n",
      "200356 - Italian Adriatic :  20   [458, 424, 343, 343JV, 43, 128, 127, 127JV, 173, 335, 191, 515, 396, 390, 521, 69, 532, 353, 136, 308]\n",
      "200357 - Jamaica :  17   [414, 146, 446, 539, 441, 441JV, 520, 401, 377JV, 193, 508, 398, 464, 93, 505, 265, 298]\n",
      "200358 - Malta / Sicily :  20   [154, 395, 494, 412, 525, 525JV, 154JV, 291, 381, 376, 426, 409, 326, 326JV, 384, 120, 120JV, 563, 563JV, 411]\n",
      "200359 - Montenegro :  20   [217, 19, 440, 440JV, 211, 174, 143, 259, 80, 235, 235JV, 530, 530JV, 107, 311, 314, 36, 119, 19JV, 31]\n",
      "200360 - Morocco :  20   [499, 405, 405JV, 560, 288JV, 164, 491, 228, 137, 284, 305, 449, 288, 147JV, 301, 364, 54, 391, 159, 149]\n",
      "200361 - Mystery :  20   [540, 519, 403, 336, 328, 512, 264, 88, 550, 550JV, 483, 4, 95, 555, 555JV, 64, 488, 62, 231, 537]\n",
      "200362 - New Zealand :  20   [350, 350JV, 447, 213, 481, 324, 404, 541, 559, 549, 549JV, 40, 545, 545JV, 459, 459JV, 188, 431, 422, 357]\n",
      "200363 - Northern Spain :  20   [23, 89, 219, 457, 86, 432, 498, 498JV, 393, 393JV, 5, 155, 155JV, 151, 98, 290, 290JV, 558, 497, 474]\n",
      "200364 - Peru :  20   [282, 282JV, 255, 255JV, 411JV, 233, 275, 239, 212, 479, 479JV, 501, 145, 492, 304, 304JV, 420, 91, 331, 331JV]\n",
      "200365 - Portugal :  20   [10, 160, 224, 224JV, 225, 430, 430JV, 246, 216, 216JV, 158, 129, 129JV, 101, 101JV, 12, 29, 377, 244, 52]\n",
      "200366 - Romania :  18   [184, 184JV, 110, 110JV, 237, 413, 27, 240, 180, 180JV, 196, 125, 360, 3, 470, 24, 163, 163JV]\n",
      "200367 - Slovenia :  20   [374, 150, 52JV, 439, 67, 79, 8, 318, 318JV, 485, 209, 209JV, 299, 65, 65JV, 226, 226JV, 60, 415, 47]\n",
      "200368 - South Africa :  20   [113, 361, 406, 547, 417, 300, 427, 320, 190, 190JV, 189, 189JV, 202, 199, 429, 243, 249, 249JV, 408, 370]\n",
      "200370 - South of France :  20   [312, 416, 340, 111, 442, 109, 109JV, 187, 463, 435, 1, 1JV, 487, 385, 292, 564, 564JV, 566, 566JV, 455]\n",
      "200371 - Southern Spain :  20   [502, 220, 97, 396JV, 270, 562, 471, 317, 477, 13, 135, 96, 359, 41, 554, 513, 500, 273, 349, 557]\n",
      "200372 - Spanish Mediterranean :  20   [245, 245JV, 63, 230, 344, 337, 517, 528, 258, 66, 2, 70, 253, 253JV, 327, 198, 307, 133, 329, 460]\n",
      "200374 - Vietnam :  14   [205, 205JV, 56, 277, 289, 289JV, 147, 535, 535JV, 552, 197, 22, 22JV, 293]\n"
     ]
    }
   ],
   "source": [
    "for k,v in matches[top_match[0]]['match'].items():\n",
    "    print(k,': ',len(v),' ',v)"
   ]
  },
  {
   "cell_type": "code",
   "execution_count": 17,
   "id": "b46c44dd-9549-4bc1-94f9-ae536b11f0e0",
   "metadata": {},
   "outputs": [
    {
     "name": "stdout",
     "output_type": "stream",
     "text": [
      "['251JV', '385JV', '79JV', '484JV', '377JV', '147JV', '411JV', '52JV', '396JV']\n"
     ]
    }
   ],
   "source": [
    "print(matches[top_match[0]]['jv'])"
   ]
  },
  {
   "cell_type": "code",
   "execution_count": 18,
   "id": "6e10fbc7-0015-4be6-9183-ada196dc1a4e",
   "metadata": {},
   "outputs": [],
   "source": [
    "trip_match = {}\n",
    "for trip,students in matches[top_match[0]]['match'].items():\n",
    "    trip_name = trip.name.strip()\n",
    "    trip_match[trip_name] = []\n",
    "    for student in students:\n",
    "        trip_match[trip_name].append(student.name.strip())\n",
    "\n",
    "student_match = {}\n",
    "for trip,students in trip_match.items():\n",
    "    for student in students:\n",
    "        student_match[str(student)] = trip\n",
    "\n",
    "jv_mismatches = matches[top_match[0]]['jv']"
   ]
  },
  {
   "cell_type": "code",
   "execution_count": 94,
   "id": "515663b3-3de0-4b0a-8043-d486ae0648d3",
   "metadata": {},
   "outputs": [],
   "source": []
  },
  {
   "cell_type": "code",
   "execution_count": null,
   "id": "a54cca64-2bae-41ed-b393-7ccd4ddc17db",
   "metadata": {},
   "outputs": [],
   "source": []
  },
  {
   "cell_type": "code",
   "execution_count": null,
   "id": "03c6f849-5d2d-4678-bf34-ab1183a896bf",
   "metadata": {},
   "outputs": [],
   "source": []
  },
  {
   "cell_type": "code",
   "execution_count": null,
   "id": "d5ff975e-0586-4c3a-919c-28cf40a129cb",
   "metadata": {},
   "outputs": [],
   "source": []
  },
  {
   "cell_type": "code",
   "execution_count": 29,
   "id": "5fc8eff2-4797-45d7-84b4-06055a98a383",
   "metadata": {},
   "outputs": [
    {
     "data": {
      "text/plain": [
       "['251JV', '385JV', '79JV', '484JV', '377JV', '147JV', '411JV', '52JV', '396JV']"
      ]
     },
     "execution_count": 29,
     "metadata": {},
     "output_type": "execute_result"
    }
   ],
   "source": [
    "jv_mismatches"
   ]
  },
  {
   "cell_type": "code",
   "execution_count": 34,
   "id": "64f479cb-f781-4e52-bc65-fbca74c4264d",
   "metadata": {},
   "outputs": [
    {
     "name": "stdout",
     "output_type": "stream",
     "text": [
      "mismatched jv 251JV\n",
      "jv trip 200346 - Colombia\n",
      "partner trip 200351 - Finland / Estonia\n",
      "partner trip students ['569', '569JV', '287', '538', '83', '105', '436', '161', '161JV', '76', '551', '251', '333', '553', '351', '72', '561', '561JV', '84', '176']\n",
      "alt student 287\n",
      "alt student prefs ['200344 - Canary Islands', '200341 - Brazil', '200351 - Finland / Estonia', '200365 - Portugal', '200343 - Bulgaria', '200367 - Slovenia', '200357 - Jamaica', '200361 - Mystery', '200338 - Amazing Race', '200346 - Colombia']\n",
      "match\n",
      "mismatched jv 385JV\n",
      "jv trip 200349 - Cyprus\n",
      "partner trip 200370 - South of France\n",
      "partner trip students ['312', '416', '340', '111', '442', '109', '109JV', '187', '463', '435', '1', '1JV', '487', '385', '292', '564', '564JV', '566', '566JV', '455']\n",
      "alt student 340\n",
      "alt student prefs ['200370 - South of France', '200365 - Portugal', '200347 - Crete', '200352 - Greek Islands', '200367 - Slovenia', '200342 - Budapest / Vienna', '200349 - Cyprus', '200356 - Italian Adriatic', '200358 - Malta / Sicily', '200371 - Southern Spain']\n",
      "match\n",
      "mismatched jv 79JV\n",
      "jv trip 200349 - Cyprus\n",
      "partner trip 200367 - Slovenia\n",
      "partner trip students ['374', '150', '52JV', '439', '67', '79', '8', '318', '318JV', '485', '209', '209JV', '299', '65', '65JV', '226', '226JV', '60', '415', '47']\n",
      "alt student 439\n",
      "alt student prefs ['200367 - Slovenia', '200343 - Bulgaria', '200349 - Cyprus', '200337 - Amalfi Coast', '200358 - Malta / Sicily', '200356 - Italian Adriatic', '200342 - Budapest / Vienna', '200360 - Morocco', '200338 - Amazing Race', '200359 - Montenegro']\n",
      "match\n",
      "mismatched jv 484JV\n",
      "jv trip 200352 - Greek Islands\n",
      "partner trip 200337 - Amalfi Coast\n",
      "partner trip students ['118', '39', '39JV', '28', '252', '252JV', '443', '260', '484', '450', '450JV', '347', '456', '104', '44', '6', '428', '565', '319', '162']\n",
      "alt student 443\n",
      "alt student prefs ['200337 - Amalfi Coast', '200367 - Slovenia', '200344 - Canary Islands', '200356 - Italian Adriatic', '200370 - South of France', '200372 - Spanish Mediterranean', '200352 - Greek Islands', '200365 - Portugal', '200348 - Croatia', '200355 - Israel']\n",
      "match\n",
      "mismatched jv 377JV\n",
      "jv trip 200357 - Jamaica\n",
      "partner trip 200365 - Portugal\n",
      "partner trip students ['10', '160', '224', '224JV', '225', '430', '430JV', '246', '216', '216JV', '158', '129', '129JV', '101', '101JV', '12', '29', '377', '244', '52']\n",
      "alt student 225\n",
      "alt student prefs ['200365 - Portugal', '200357 - Jamaica', '200341 - Brazil', '200355 - Israel', '200344 - Canary Islands', '200352 - Greek Islands', '200340 - Belize', '200343 - Bulgaria', '200349 - Cyprus', '200372 - Spanish Mediterranean']\n",
      "match\n",
      "mismatched jv 147JV\n",
      "jv trip 200360 - Morocco\n",
      "partner trip 200374 - Vietnam\n",
      "partner trip students ['205', '205JV', '56', '277', '289', '289JV', '147', '535', '535JV', '552', '197', '22', '22JV', '293']\n",
      "alt student 56\n",
      "alt student prefs ['200344 - Canary Islands', '200337 - Amalfi Coast', '200356 - Italian Adriatic', '200358 - Malta / Sicily', '200360 - Morocco', '200374 - Vietnam', '200346 - Colombia', '200348 - Croatia', '200347 - Crete']\n",
      "match\n",
      "mismatched jv 411JV\n",
      "jv trip 200364 - Peru\n",
      "partner trip 200358 - Malta / Sicily\n",
      "partner trip students ['154', '395', '494', '412', '525', '525JV', '154JV', '291', '381', '376', '426', '409', '326', '326JV', '384', '120', '120JV', '563', '563JV', '411']\n",
      "alt student 395\n",
      "alt student prefs ['200364 - Peru', '200351 - Finland / Estonia', '200367 - Slovenia', '200358 - Malta / Sicily', '200363 - Northern Spain', '200366 - Romania', '200345 - Chile', '200349 - Cyprus']\n",
      "match\n",
      "mismatched jv 52JV\n",
      "jv trip 200367 - Slovenia\n",
      "partner trip 200365 - Portugal\n",
      "partner trip students ['10', '160', '224', '224JV', '225', '430', '430JV', '246', '216', '216JV', '158', '129', '129JV', '101', '101JV', '12', '29', '377', '244', '52']\n",
      "alt student 10\n",
      "alt student prefs ['200337 - Amalfi Coast', '200365 - Portugal', '200367 - Slovenia', '200363 - Northern Spain', '200370 - South of France', '200345 - Chile', '200349 - Cyprus', '200356 - Italian Adriatic', '200362 - New Zealand', '200341 - Brazil']\n",
      "match\n",
      "mismatched jv 396JV\n",
      "jv trip 200371 - Southern Spain\n",
      "partner trip 200356 - Italian Adriatic\n",
      "partner trip students ['458', '424', '343', '343JV', '43', '128', '127', '127JV', '173', '335', '191', '515', '396', '390', '521', '69', '532', '353', '136', '308']\n",
      "alt student 458\n",
      "alt student prefs ['200372 - Spanish Mediterranean', '200356 - Italian Adriatic', '200371 - Southern Spain', '200341 - Brazil', '200365 - Portugal', '200348 - Croatia', '200352 - Greek Islands', '200343 - Bulgaria', '200346 - Colombia', '200355 - Israel']\n",
      "match\n"
     ]
    }
   ],
   "source": [
    "rematched = []\n",
    "for jv in jv_mismatches:\n",
    "    print('mismatched jv',jv)\n",
    "    jv_trip = student_match[jv]\n",
    "    partner_trip = student_match[str(jv[:-2])]\n",
    "    print('jv trip',jv_trip)\n",
    "    print('partner trip',partner_trip)\n",
    "    print('partner trip students',trip_match[partner_trip])\n",
    "    for alt_student in trip_match[partner_trip]:\n",
    "        if str(jv[:-2]) == alt_student:\n",
    "            continue\n",
    "        if (\n",
    "            (jv_trip in student_preferences[str(alt_student)]) # if mismatched jv's trip is in the alt students preference list\n",
    "            and (alt_student+'JV' not in trip_match[partner_trip]) # AND alt student doesn't have JV\n",
    "            and (alt_student[-2:] != 'JV') # AND alt student isn't a JV\n",
    "        ):\n",
    "            print('alt student',alt_student)\n",
    "            print('alt student prefs',student_preferences[str(alt_student)])\n",
    "            print('match')\n",
    "            rematched.append(jv)\n",
    "            break\n",
    "            # raise"
   ]
  },
  {
   "cell_type": "code",
   "execution_count": 35,
   "id": "3a0710df-6ba6-4c14-b406-0a510f22e603",
   "metadata": {},
   "outputs": [
    {
     "data": {
      "text/plain": [
       "['251JV', '385JV', '79JV', '484JV', '377JV', '147JV', '411JV', '52JV', '396JV']"
      ]
     },
     "execution_count": 35,
     "metadata": {},
     "output_type": "execute_result"
    }
   ],
   "source": [
    "jv_mismatches"
   ]
  },
  {
   "cell_type": "code",
   "execution_count": 36,
   "id": "c7983989-287b-4d4e-b226-b8c402145e8d",
   "metadata": {},
   "outputs": [
    {
     "data": {
      "text/plain": [
       "['251JV', '385JV', '79JV', '484JV', '377JV', '147JV', '411JV', '52JV', '396JV']"
      ]
     },
     "execution_count": 36,
     "metadata": {},
     "output_type": "execute_result"
    }
   ],
   "source": [
    "rematched"
   ]
  },
  {
   "cell_type": "code",
   "execution_count": null,
   "id": "b4ac089c-f0f3-417f-99ec-6a7268387a0d",
   "metadata": {},
   "outputs": [],
   "source": []
  },
  {
   "cell_type": "code",
   "execution_count": null,
   "id": "c92e076a-4e0f-4e4d-b9f2-b19ae9e64b2d",
   "metadata": {},
   "outputs": [],
   "source": []
  },
  {
   "cell_type": "code",
   "execution_count": null,
   "id": "a09cb44e-f6d4-422b-b534-2d26d5bacb81",
   "metadata": {},
   "outputs": [],
   "source": []
  },
  {
   "cell_type": "code",
   "execution_count": null,
   "id": "7dc35a63-675a-4ef1-abf5-589244944c26",
   "metadata": {},
   "outputs": [],
   "source": []
  },
  {
   "cell_type": "code",
   "execution_count": null,
   "id": "0ed1d820-cedd-4bed-b536-07d26000fca7",
   "metadata": {},
   "outputs": [],
   "source": []
  },
  {
   "cell_type": "code",
   "execution_count": null,
   "id": "f02336b3-3d11-4450-9b5c-1c20e39810fe",
   "metadata": {},
   "outputs": [],
   "source": []
  },
  {
   "cell_type": "code",
   "execution_count": null,
   "id": "46fa6057-1814-4cf0-afe3-23cc310b6ae3",
   "metadata": {},
   "outputs": [],
   "source": []
  },
  {
   "cell_type": "code",
   "execution_count": null,
   "id": "d07b488a-58a5-40c1-9460-cbf2570369a7",
   "metadata": {},
   "outputs": [],
   "source": []
  },
  {
   "cell_type": "code",
   "execution_count": null,
   "id": "524f6f7b-b608-4cd7-8508-0682525828d9",
   "metadata": {},
   "outputs": [],
   "source": []
  },
  {
   "cell_type": "code",
   "execution_count": null,
   "id": "86b45883-728f-4280-8a7f-d5a33c188fea",
   "metadata": {},
   "outputs": [],
   "source": []
  },
  {
   "cell_type": "code",
   "execution_count": null,
   "id": "b097c772-db06-4a50-98c4-36b1c554774e",
   "metadata": {},
   "outputs": [],
   "source": []
  },
  {
   "cell_type": "code",
   "execution_count": null,
   "id": "3fb6b118-7084-4126-8ebd-8eb3a145f620",
   "metadata": {},
   "outputs": [],
   "source": []
  },
  {
   "cell_type": "code",
   "execution_count": null,
   "id": "ed68e810-a8a5-494e-8430-1930855bd6a7",
   "metadata": {},
   "outputs": [],
   "source": []
  },
  {
   "cell_type": "code",
   "execution_count": null,
   "id": "e9ccd3b0-1b6c-4f10-9acb-4cbc282d0209",
   "metadata": {},
   "outputs": [],
   "source": []
  },
  {
   "cell_type": "code",
   "execution_count": null,
   "id": "ed68b530-8337-490f-9ea4-a9d68d4796cc",
   "metadata": {},
   "outputs": [],
   "source": []
  },
  {
   "cell_type": "code",
   "execution_count": null,
   "id": "a35258c5-6049-4c78-979a-93ebd37520c2",
   "metadata": {},
   "outputs": [],
   "source": []
  },
  {
   "cell_type": "code",
   "execution_count": null,
   "id": "2fb620ba-9afd-41dd-b239-49cb67cac4cf",
   "metadata": {},
   "outputs": [],
   "source": []
  },
  {
   "cell_type": "code",
   "execution_count": null,
   "id": "afe3786d-3fc5-440b-81ef-d2d6387cd13d",
   "metadata": {},
   "outputs": [],
   "source": []
  },
  {
   "cell_type": "code",
   "execution_count": null,
   "id": "85b855b4-7b73-4137-945a-76b2c74c5294",
   "metadata": {},
   "outputs": [],
   "source": []
  },
  {
   "cell_type": "code",
   "execution_count": null,
   "id": "e75cc7d4-2fae-4740-b1bc-fab8cff200ec",
   "metadata": {},
   "outputs": [],
   "source": []
  },
  {
   "cell_type": "code",
   "execution_count": null,
   "id": "90a8f86e-f886-4077-b0a1-07dab75d6a3e",
   "metadata": {},
   "outputs": [],
   "source": []
  },
  {
   "cell_type": "code",
   "execution_count": null,
   "id": "2aab1c12-2e3c-470a-9c52-28f8ea8dfc94",
   "metadata": {},
   "outputs": [],
   "source": []
  },
  {
   "cell_type": "code",
   "execution_count": null,
   "id": "cc6a9417-3f40-49e7-b3ea-f91d73520875",
   "metadata": {},
   "outputs": [],
   "source": []
  },
  {
   "cell_type": "code",
   "execution_count": null,
   "id": "d105c7da-7b85-4f34-91d1-e9a98e893e03",
   "metadata": {},
   "outputs": [],
   "source": []
  },
  {
   "cell_type": "code",
   "execution_count": null,
   "id": "f6604bbe-3a0f-45f7-94c7-30f23ed5c389",
   "metadata": {},
   "outputs": [],
   "source": []
  },
  {
   "cell_type": "code",
   "execution_count": null,
   "id": "2fd9324b-7020-4677-be1a-df31b3cba08c",
   "metadata": {},
   "outputs": [],
   "source": []
  }
 ],
 "metadata": {
  "kernelspec": {
   "display_name": "Python 3 (ipykernel)",
   "language": "python",
   "name": "python3"
  },
  "language_info": {
   "codemirror_mode": {
    "name": "ipython",
    "version": 3
   },
   "file_extension": ".py",
   "mimetype": "text/x-python",
   "name": "python",
   "nbconvert_exporter": "python",
   "pygments_lexer": "ipython3",
   "version": "3.9.7"
  }
 },
 "nbformat": 4,
 "nbformat_minor": 5
}
