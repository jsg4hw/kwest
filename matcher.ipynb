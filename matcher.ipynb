{
 "cells": [
  {
   "cell_type": "code",
   "execution_count": null,
   "id": "aa9a309b-c118-4726-b9dc-2eaa8fae4abe",
   "metadata": {},
   "outputs": [],
   "source": [
    "import os\n",
    "from random import shuffle\n",
    "from math import ceil\n",
    "import pandas as pd\n",
    "from matching.games import HospitalResident"
   ]
  },
  {
   "cell_type": "code",
   "execution_count": null,
   "id": "a99c89a5-4a6c-4906-b09a-bc31de708b27",
   "metadata": {},
   "outputs": [],
   "source": [
    "INPUT_FPATH = os.path.join(os.getcwd(),'data.xlsx')\n",
    "OUTPUT_FPATH = os.path.join(os.getcwd(),'output.csv')"
   ]
  },
  {
   "cell_type": "code",
   "execution_count": null,
   "id": "7557675f-a6cc-4250-9210-31ce7cf349f1",
   "metadata": {},
   "outputs": [],
   "source": [
    "# import data\n",
    "df_input = pd.read_excel(INPUT_FPATH,dtype=object)"
   ]
  },
  {
   "cell_type": "code",
   "execution_count": null,
   "id": "fd42f155-9f5a-40e3-9ff4-b0f2fea9f43d",
   "metadata": {},
   "outputs": [],
   "source": [
    "# add rows for JVs\n",
    "for idx,row in df_input.loc[(df_input['Sig Other Coming'] == 'T') & (df_input['Sig Other Kellogg Student'] != 'T')].iterrows():\n",
    "    insertion = {\n",
    "        'Netid': [str(row['Netid'])+'JV'],\n",
    "        'ParentNetid': [str(row['Netid'])],\n",
    "        'Gender': [row['Significant Gender']],\n",
    "        'Program': ['JV'],\n",
    "        'Passport Country': [row['Significant Passport Country']],\n",
    "        'Vote1': [row['Vote1']],\n",
    "        'Vote2': [row['Vote2']],\n",
    "        'Vote3': [row['Vote3']],\n",
    "        'Vote4': [row['Vote4']],\n",
    "        'Vote5': [row['Vote5']],\n",
    "        'Vote6': [row['Vote6']],\n",
    "        'Vote7': [row['Vote7']],\n",
    "        'Vote8': [row['Vote8']],\n",
    "        'Vote9': [row['Vote9']],\n",
    "        'Vote10': [row['Vote10']],\n",
    "    }\n",
    "    \n",
    "    df_input = pd.concat([df_input,pd.DataFrame.from_dict(insertion,orient='columns')],sort=False,ignore_index=True)"
   ]
  },
  {
   "cell_type": "code",
   "execution_count": null,
   "id": "12e54b71-7ef9-456f-ae95-150e2f401b12",
   "metadata": {},
   "outputs": [],
   "source": [
    "# groupings for program, nationality, gender\n",
    "df_input['Program'] = df_input['Program'].apply(lambda x: x if x in ['2YMBA'] else 'OTHER') # 1YMBA\n",
    "df_input['Passport Country'] = df_input['Passport Country'].apply(lambda x: x if x in ['UNITED STATES'] else 'OTHER')\n",
    "# df_input['Gender'] = df_input['Gender'].apply(lambda x: '1' if x in ['M'] else '0') # 1YMBA"
   ]
  },
  {
   "cell_type": "code",
   "execution_count": null,
   "id": "e7ba3668-e14f-4f0a-a76f-30bd227fcdc3",
   "metadata": {},
   "outputs": [],
   "source": [
    "# drop cols\n",
    "votes = ['Vote'+str(i+1) for i in range(10)]\n",
    "keep_cols = [\n",
    "    'Netid','ParentNetid','Gender','Program',\n",
    "    'Passport Country',\n",
    "] + votes\n",
    "df_input = df_input[keep_cols]"
   ]
  },
  {
   "cell_type": "code",
   "execution_count": null,
   "id": "ecc25b38-9367-44ba-909c-055732c3ec0f",
   "metadata": {},
   "outputs": [],
   "source": [
    "# demographic constraint distribution range calculations\n",
    "margin = 0.15\n",
    "# constraints\n",
    "dist_female = round(df_input.groupby('Gender')['Netid'].count()/len(df_input),4)['F']\n",
    "rng_female = [round(dist_female-margin,2),round(dist_female+margin,2)]\n",
    "print(dist_female)\n",
    "print(rng_female)\n",
    "dist_2y = round(df_input.groupby('Program')['Netid'].count()/len(df_input),4)['2YMBA']\n",
    "rng_2y = [round(dist_2y-margin,2),round(dist_2y+margin,2)]\n",
    "print(dist_2y)\n",
    "print(rng_2y)\n",
    "dist_amer = round(df_input.groupby('Passport Country')['Netid'].count()/len(df_input),4)['UNITED STATES']\n",
    "# rng_nationality = [round(dist_amer-0.25,2),round(dist_amer+0.25,2)]\n",
    "rng_amer = [0.1,0.9]\n",
    "print(dist_amer)\n",
    "print(rng_amer)"
   ]
  },
  {
   "cell_type": "code",
   "execution_count": null,
   "id": "06e80aba-4628-40b9-83bf-c6d2b9f203f9",
   "metadata": {},
   "outputs": [],
   "source": [
    "trips_unique = [df_input[i].tolist() for i in votes]\n",
    "trips_unique = [t for trip in trips_unique for t in trip if str(t) != 'nan']\n",
    "trips_unique = set(trips_unique)\n",
    "netid_unique = [str(i) for i in df_input['Netid'].unique()]"
   ]
  },
  {
   "cell_type": "code",
   "execution_count": null,
   "id": "3f13a7d5-6d61-4f47-a078-a57f09635e32",
   "metadata": {},
   "outputs": [],
   "source": [
    "trip_cap = 20\n",
    "extra_trips = 2\n",
    "trips_needed = ceil(len(netid_unique)/trip_cap)\n",
    "trips_final = pd.melt(\n",
    "    df_input[['Netid']+votes],\n",
    "    id_vars=['Netid'],\n",
    "    value_vars=votes,\n",
    "    var_name='Vote',\n",
    "    value_name='Trip'\n",
    ").groupby('Trip')['Netid'].count().sort_values(ascending=False)[:trips_needed].index.tolist()\n",
    "trip_capacity = {trip:trip_cap for trip in trips_final}"
   ]
  },
  {
   "cell_type": "code",
   "execution_count": null,
   "id": "2e80851a-004d-4d80-a0a1-126effdf70d0",
   "metadata": {},
   "outputs": [],
   "source": [
    "_trips = pd.melt(df_input[['Netid']+votes],id_vars=['Netid'],value_vars=votes,var_name='Vote',value_name='Trip').groupby('Trip')['Netid'].apply(list)\n",
    "_trips = _trips.loc[_trips.index.isin(trips_final)].to_dict()"
   ]
  },
  {
   "cell_type": "code",
   "execution_count": null,
   "id": "4e93cfc6-a46f-4027-8d8e-1efd87f20be1",
   "metadata": {},
   "outputs": [],
   "source": [
    "student_preferences = {}\n",
    "no_preference_students = []\n",
    "for idx,row in df_input.iterrows():\n",
    "    prefs = [i for i in row[votes].values.tolist() if (str(i) != 'nan') & (i in trips_final)]\n",
    "    if prefs != []:\n",
    "        student_preferences[str(row['Netid'])] = prefs\n",
    "    else:\n",
    "        no_preference_students.append(str(row['Netid']))\n",
    "no_preference_students"
   ]
  },
  {
   "cell_type": "code",
   "execution_count": null,
   "id": "7bb76847-b892-4abf-bf7c-0773c2ee9a40",
   "metadata": {
    "tags": []
   },
   "outputs": [],
   "source": []
  },
  {
   "cell_type": "code",
   "execution_count": null,
   "id": "11dd360a-20a4-4798-b01d-2d68ab526215",
   "metadata": {},
   "outputs": [],
   "source": []
  },
  {
   "cell_type": "code",
   "execution_count": null,
   "id": "b039a478-ab34-4512-b477-fd8636da2916",
   "metadata": {},
   "outputs": [],
   "source": []
  },
  {
   "cell_type": "code",
   "execution_count": null,
   "id": "2309146f-b422-4dcf-aac0-c81b54ad6b67",
   "metadata": {},
   "outputs": [],
   "source": []
  },
  {
   "cell_type": "code",
   "execution_count": null,
   "id": "17f6b354-003b-4d8d-99e0-7bed6d47999c",
   "metadata": {},
   "outputs": [],
   "source": []
  },
  {
   "cell_type": "code",
   "execution_count": null,
   "id": "d646c21c-04d0-4058-b407-10ff3d311503",
   "metadata": {},
   "outputs": [],
   "source": []
  },
  {
   "cell_type": "code",
   "execution_count": null,
   "id": "6a54440b-6535-46c9-8f52-a946d10905b1",
   "metadata": {
    "tags": []
   },
   "outputs": [],
   "source": [
    "iterations = 10000\n",
    "matches = {}\n",
    "top_match = (None,100)\n",
    "\n",
    "for i in range(iterations):\n",
    "\n",
    "    trip_preferences = {}\n",
    "    for trip,netids in _trips.items():\n",
    "        _netids = [str(i) for i in netids]\n",
    "        shuffle(_netids)\n",
    "        # put a JV directly after partner - max chance of assigned together\n",
    "        for netid in _netids:\n",
    "            if netid[-2:]=='JV':\n",
    "                _netids.insert(\n",
    "                    # in the spot directly after student partner\n",
    "                    _netids.index(netid[:-2])+1,\n",
    "                    # insert the jv netid\n",
    "                    _netids.pop(_netids.index(netid))\n",
    "                )\n",
    "        trip_preferences[trip] = _netids\n",
    "\n",
    "    game = HospitalResident.create_from_dictionaries(\n",
    "        student_preferences,\n",
    "        trip_preferences,\n",
    "        trip_capacity\n",
    "    )\n",
    "\n",
    "    match = game.solve(optimal='resident')\n",
    "\n",
    "    matched_students = []\n",
    "    for _, students in match.items():\n",
    "        for student in students:\n",
    "            matched_students.append(student.name)\n",
    "\n",
    "    unmatched_students = set(student_preferences.keys()) - set(matched_students)\n",
    "\n",
    "    if len(unmatched_students) == 0:\n",
    "        matches[str(i)] = {'match': match,'jv':[]}\n",
    "        issues = 0\n",
    "        trip_num = 0\n",
    "        try:\n",
    "            for trip,students in match.items():\n",
    "                trip_num+=1\n",
    "                students = [str(i.name) for i in students]\n",
    "                s = len(students)\n",
    "                f = 0\n",
    "                am = 0\n",
    "                y2 = 0\n",
    "                # trip size\n",
    "                # try:\n",
    "                #     assert s >= 12\n",
    "                # except:\n",
    "                #     raise Exception('less than 12 students')\n",
    "                # if s < 12:\n",
    "                #     issues+=1\n",
    "                for student in students:\n",
    "                    # jvs with partners\n",
    "                    if student[-2:]=='JV':\n",
    "                        # try:\n",
    "                        #     assert student[:-2] in students\n",
    "                        # except:\n",
    "                        #     raise Exception('jv',student,'not paired with partner')\n",
    "                        if student[:-2] not in students:\n",
    "                            issues+=1\n",
    "                            matches[str(i)]['jv'].append(student)\n",
    "                    # demographic info\n",
    "                    demo = df_input.loc[df_input['Netid'].apply(str)==student]\n",
    "                    if demo['Gender'].values[0] == 'F':\n",
    "                        f+=1\n",
    "                    if demo['Passport Country'].values[0] == 'UNITED STATES':\n",
    "                        am+=1\n",
    "                    if demo['Program'].values[0] == '2YMBA':\n",
    "                        y2+=1\n",
    "                # gender dist\n",
    "                # try:\n",
    "                #     assert rng_female[0] <= round(f/s,3) <= rng_female[1]\n",
    "                # except:\n",
    "                #     raise Exception('failed under gender constraint')\n",
    "                # # program dist\n",
    "                # try:\n",
    "                #     assert rng_2y[0] <= round(y2/s,3) <= rng_2y[1]\n",
    "                # except:\n",
    "                #     raise Exception('failed under program constraint')\n",
    "                # # nationality dist\n",
    "                # try:\n",
    "                #     assert rng_amer[0] <= round(am/s,3) <= rng_amer[1]\n",
    "                # except:\n",
    "                #     raise Exception('failed under nationality constraint')\n",
    "                # if not rng_female[0] <= round(f/s,3) <= rng_female[1]:\n",
    "                #     issues+=1\n",
    "                # if not rng_2y[0] <= round(y2/s,3) <= rng_2y[1]:\n",
    "                #     issues+=1\n",
    "                # if not rng_amer[0] <= round(am/s,3) <= rng_amer[1]:\n",
    "                #     issues+=1\n",
    "            \n",
    "            matches[str(i)]['issues'] = issues\n",
    "            if issues < top_match[1]:\n",
    "                top_match = (str(i),issues)\n",
    "            \n",
    "            # print('match found!')\n",
    "            # MATCH = match\n",
    "            # break\n",
    "\n",
    "        except Exception as e:\n",
    "            # raise\n",
    "            print('match',i+1,'trip',trip_num,'failed:',e)\n",
    "            continue\n",
    "\n",
    "print('run out of iterations')"
   ]
  },
  {
   "cell_type": "code",
   "execution_count": null,
   "id": "dfac5b22-0d26-4419-974c-727e50955ea0",
   "metadata": {},
   "outputs": [],
   "source": [
    "for k,v in matches.items():\n",
    "    print(k,'issues:',v['issues'])"
   ]
  },
  {
   "cell_type": "code",
   "execution_count": null,
   "id": "43a5c9a2-b9dc-4096-b340-4d5f911044f4",
   "metadata": {},
   "outputs": [],
   "source": [
    "top_match"
   ]
  },
  {
   "cell_type": "code",
   "execution_count": null,
   "id": "c2ed5453-f219-4081-94b0-2019068b2000",
   "metadata": {},
   "outputs": [],
   "source": [
    "for k,v in matches[top_match[0]]['match'].items():\n",
    "    print(k,': ',len(v))"
   ]
  },
  {
   "cell_type": "code",
   "execution_count": null,
   "id": "cb9c7c39-8252-4ce9-993f-b4e43f0c2256",
   "metadata": {},
   "outputs": [],
   "source": [
    "for k,v in matches[top_match[0]]['match'].items():\n",
    "    print(k,': ',v)"
   ]
  },
  {
   "cell_type": "code",
   "execution_count": null,
   "id": "b46c44dd-9549-4bc1-94f9-ae536b11f0e0",
   "metadata": {},
   "outputs": [],
   "source": [
    "print(matches[top_match[0]]['jv'])"
   ]
  },
  {
   "cell_type": "code",
   "execution_count": null,
   "id": "c7983989-287b-4d4e-b226-b8c402145e8d",
   "metadata": {},
   "outputs": [],
   "source": []
  },
  {
   "cell_type": "code",
   "execution_count": null,
   "id": "b4ac089c-f0f3-417f-99ec-6a7268387a0d",
   "metadata": {},
   "outputs": [],
   "source": []
  },
  {
   "cell_type": "code",
   "execution_count": null,
   "id": "524f6f7b-b608-4cd7-8508-0682525828d9",
   "metadata": {},
   "outputs": [],
   "source": []
  },
  {
   "cell_type": "code",
   "execution_count": null,
   "id": "86b45883-728f-4280-8a7f-d5a33c188fea",
   "metadata": {},
   "outputs": [],
   "source": []
  },
  {
   "cell_type": "code",
   "execution_count": null,
   "id": "b097c772-db06-4a50-98c4-36b1c554774e",
   "metadata": {},
   "outputs": [],
   "source": []
  },
  {
   "cell_type": "code",
   "execution_count": null,
   "id": "3fb6b118-7084-4126-8ebd-8eb3a145f620",
   "metadata": {},
   "outputs": [],
   "source": []
  },
  {
   "cell_type": "code",
   "execution_count": null,
   "id": "ed68e810-a8a5-494e-8430-1930855bd6a7",
   "metadata": {},
   "outputs": [],
   "source": []
  },
  {
   "cell_type": "code",
   "execution_count": null,
   "id": "e9ccd3b0-1b6c-4f10-9acb-4cbc282d0209",
   "metadata": {},
   "outputs": [],
   "source": []
  },
  {
   "cell_type": "code",
   "execution_count": null,
   "id": "ed68b530-8337-490f-9ea4-a9d68d4796cc",
   "metadata": {},
   "outputs": [],
   "source": []
  },
  {
   "cell_type": "code",
   "execution_count": null,
   "id": "a35258c5-6049-4c78-979a-93ebd37520c2",
   "metadata": {},
   "outputs": [],
   "source": []
  },
  {
   "cell_type": "code",
   "execution_count": null,
   "id": "2fb620ba-9afd-41dd-b239-49cb67cac4cf",
   "metadata": {},
   "outputs": [],
   "source": []
  },
  {
   "cell_type": "code",
   "execution_count": null,
   "id": "afe3786d-3fc5-440b-81ef-d2d6387cd13d",
   "metadata": {},
   "outputs": [],
   "source": []
  },
  {
   "cell_type": "code",
   "execution_count": null,
   "id": "85b855b4-7b73-4137-945a-76b2c74c5294",
   "metadata": {},
   "outputs": [],
   "source": []
  },
  {
   "cell_type": "code",
   "execution_count": null,
   "id": "e75cc7d4-2fae-4740-b1bc-fab8cff200ec",
   "metadata": {},
   "outputs": [],
   "source": []
  },
  {
   "cell_type": "code",
   "execution_count": null,
   "id": "90a8f86e-f886-4077-b0a1-07dab75d6a3e",
   "metadata": {},
   "outputs": [],
   "source": []
  },
  {
   "cell_type": "code",
   "execution_count": null,
   "id": "2aab1c12-2e3c-470a-9c52-28f8ea8dfc94",
   "metadata": {},
   "outputs": [],
   "source": []
  },
  {
   "cell_type": "code",
   "execution_count": null,
   "id": "cc6a9417-3f40-49e7-b3ea-f91d73520875",
   "metadata": {},
   "outputs": [],
   "source": []
  },
  {
   "cell_type": "code",
   "execution_count": null,
   "id": "d105c7da-7b85-4f34-91d1-e9a98e893e03",
   "metadata": {},
   "outputs": [],
   "source": []
  },
  {
   "cell_type": "code",
   "execution_count": null,
   "id": "f6604bbe-3a0f-45f7-94c7-30f23ed5c389",
   "metadata": {},
   "outputs": [],
   "source": []
  },
  {
   "cell_type": "code",
   "execution_count": null,
   "id": "2fd9324b-7020-4677-be1a-df31b3cba08c",
   "metadata": {},
   "outputs": [],
   "source": []
  }
 ],
 "metadata": {
  "kernelspec": {
   "display_name": "Python 3 (ipykernel)",
   "language": "python",
   "name": "python3"
  },
  "language_info": {
   "codemirror_mode": {
    "name": "ipython",
    "version": 3
   },
   "file_extension": ".py",
   "mimetype": "text/x-python",
   "name": "python",
   "nbconvert_exporter": "python",
   "pygments_lexer": "ipython3",
   "version": "3.9.7"
  }
 },
 "nbformat": 4,
 "nbformat_minor": 5
}
